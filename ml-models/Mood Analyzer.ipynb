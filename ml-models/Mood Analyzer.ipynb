{
 "cells": [
  {
   "cell_type": "code",
   "execution_count": 236,
   "metadata": {},
   "outputs": [],
   "source": [
    "import os\n",
    "import re\n",
    "import pymongo\n",
    "import urllib\n",
    "import pandas as pd\n",
    "import numpy as np\n",
    "import matplotlib.pyplot as plt\n",
    "from sklearn.model_selection import train_test_split\n",
    "# !pip install nltk\n",
    "import nltk\n",
    "# nltk.download()\n",
    "from sklearn.linear_model import LogisticRegression\n",
    "from sklearn.ensemble import RandomForestClassifier"
   ]
  },
  {
   "cell_type": "code",
   "execution_count": 2,
   "metadata": {},
   "outputs": [],
   "source": [
    "if not os.path.exists('entries.csv'):\n",
    "    uri = \"mongodb+srv://\" + urllib.parse.quote(\"user\") + \":\" + urllib.parse.quote(\"Pizza.network1\") + \"@dentries-nsb6p.mongodb.net/test?retryWrites=true&w=majority\"\n",
    "    client = pymongo.MongoClient(uri)\n",
    "    db = client.diary_entries_db\n",
    "    db.list_collection_names()\n",
    "    collection = db['diary_entries']\n",
    "    df = pd.DataFrame(list(collection.find()))\n",
    "    df.to_csv('entries.csv')\n",
    "else:\n",
    "    df = pd.read_csv('entries.csv')"
   ]
  },
  {
   "cell_type": "markdown",
   "metadata": {},
   "source": [
    "# Clean Data"
   ]
  },
  {
   "cell_type": "code",
   "execution_count": 4,
   "metadata": {},
   "outputs": [],
   "source": [
    "df = df.drop(columns=['_id', 'date', 'startTime', 'endTime'])"
   ]
  },
  {
   "cell_type": "code",
   "execution_count": 5,
   "metadata": {},
   "outputs": [],
   "source": [
    "df['content'] = df['content'].str.lower().str.replace(r'[.?,!]', '')"
   ]
  },
  {
   "cell_type": "code",
   "execution_count": 8,
   "metadata": {},
   "outputs": [],
   "source": [
    "df['goodMood'] = df['goodMood'].replace({True: 1, False: 0})"
   ]
  },
  {
   "cell_type": "code",
   "execution_count": 9,
   "metadata": {},
   "outputs": [
    {
     "data": {
      "text/html": [
       "<div>\n",
       "<style scoped>\n",
       "    .dataframe tbody tr th:only-of-type {\n",
       "        vertical-align: middle;\n",
       "    }\n",
       "\n",
       "    .dataframe tbody tr th {\n",
       "        vertical-align: top;\n",
       "    }\n",
       "\n",
       "    .dataframe thead th {\n",
       "        text-align: right;\n",
       "    }\n",
       "</style>\n",
       "<table border=\"1\" class=\"dataframe\">\n",
       "  <thead>\n",
       "    <tr style=\"text-align: right;\">\n",
       "      <th></th>\n",
       "      <th>title</th>\n",
       "      <th>content</th>\n",
       "      <th>goodMood</th>\n",
       "    </tr>\n",
       "  </thead>\n",
       "  <tbody>\n",
       "    <tr>\n",
       "      <td>0</td>\n",
       "      <td>11-9-2017</td>\n",
       "      <td>hello how should i start umm well i am making ...</td>\n",
       "      <td>1</td>\n",
       "    </tr>\n",
       "    <tr>\n",
       "      <td>1</td>\n",
       "      <td>11-11-2017</td>\n",
       "      <td>ok so new plan i just sleep after i take my sh...</td>\n",
       "      <td>1</td>\n",
       "    </tr>\n",
       "    <tr>\n",
       "      <td>2</td>\n",
       "      <td>11-13-2017</td>\n",
       "      <td>well a lot has happened okay sorry for not wri...</td>\n",
       "      <td>0</td>\n",
       "    </tr>\n",
       "    <tr>\n",
       "      <td>3</td>\n",
       "      <td>11-14-2017</td>\n",
       "      <td>damn it i overslept again i hate myself right ...</td>\n",
       "      <td>0</td>\n",
       "    </tr>\n",
       "    <tr>\n",
       "      <td>4</td>\n",
       "      <td>11-15-2017</td>\n",
       "      <td>so i went on a run today yodai was there too t...</td>\n",
       "      <td>1</td>\n",
       "    </tr>\n",
       "  </tbody>\n",
       "</table>\n",
       "</div>"
      ],
      "text/plain": [
       "        title                                            content  goodMood\n",
       "0   11-9-2017  hello how should i start umm well i am making ...         1\n",
       "1  11-11-2017  ok so new plan i just sleep after i take my sh...         1\n",
       "2  11-13-2017  well a lot has happened okay sorry for not wri...         0\n",
       "3  11-14-2017  damn it i overslept again i hate myself right ...         0\n",
       "4  11-15-2017  so i went on a run today yodai was there too t...         1"
      ]
     },
     "execution_count": 9,
     "metadata": {},
     "output_type": "execute_result"
    }
   ],
   "source": [
    "df.head()"
   ]
  },
  {
   "cell_type": "markdown",
   "metadata": {},
   "source": [
    "# EDA"
   ]
  },
  {
   "cell_type": "code",
   "execution_count": 17,
   "metadata": {},
   "outputs": [
    {
     "data": {
      "text/plain": [
       "(100, 77)"
      ]
     },
     "execution_count": 17,
     "metadata": {},
     "output_type": "execute_result"
    }
   ],
   "source": [
    "df.loc[df['goodMood'] == 0].shape[0], df.loc[df['goodMood'] == 1].shape[0]"
   ]
  },
  {
   "cell_type": "code",
   "execution_count": 51,
   "metadata": {},
   "outputs": [
    {
     "data": {
      "text/html": [
       "<div>\n",
       "<style scoped>\n",
       "    .dataframe tbody tr th:only-of-type {\n",
       "        vertical-align: middle;\n",
       "    }\n",
       "\n",
       "    .dataframe tbody tr th {\n",
       "        vertical-align: top;\n",
       "    }\n",
       "\n",
       "    .dataframe thead th {\n",
       "        text-align: right;\n",
       "    }\n",
       "</style>\n",
       "<table border=\"1\" class=\"dataframe\">\n",
       "  <thead>\n",
       "    <tr style=\"text-align: right;\">\n",
       "      <th></th>\n",
       "      <th>count</th>\n",
       "      <th>length</th>\n",
       "    </tr>\n",
       "  </thead>\n",
       "  <tbody>\n",
       "    <tr>\n",
       "      <td>i</td>\n",
       "      <td>3514</td>\n",
       "      <td>1</td>\n",
       "    </tr>\n",
       "    <tr>\n",
       "      <td>to</td>\n",
       "      <td>1674</td>\n",
       "      <td>2</td>\n",
       "    </tr>\n",
       "    <tr>\n",
       "      <td>the</td>\n",
       "      <td>1183</td>\n",
       "      <td>3</td>\n",
       "    </tr>\n",
       "    <tr>\n",
       "      <td>a</td>\n",
       "      <td>888</td>\n",
       "      <td>1</td>\n",
       "    </tr>\n",
       "    <tr>\n",
       "      <td>is</td>\n",
       "      <td>850</td>\n",
       "      <td>2</td>\n",
       "    </tr>\n",
       "  </tbody>\n",
       "</table>\n",
       "</div>"
      ],
      "text/plain": [
       "     count  length\n",
       "i     3514       1\n",
       "to    1674       2\n",
       "the   1183       3\n",
       "a      888       1\n",
       "is     850       2"
      ]
     },
     "execution_count": 51,
     "metadata": {},
     "output_type": "execute_result"
    }
   ],
   "source": [
    "def flatten(ll):\n",
    "    s = []\n",
    "    for l in ll:\n",
    "        s.extend(l)\n",
    "    return s\n",
    "    \n",
    "unique_words = pd.DataFrame(pd.Series(flatten(df['content'].str.split(' '))).value_counts(), columns=['count'])\n",
    "unique_words['length'] = unique_words.index.str.len()\n",
    "number_of_words = np.sum(unique_words['count'])\n",
    "unique_words.head()"
   ]
  },
  {
   "cell_type": "code",
   "execution_count": 12,
   "metadata": {},
   "outputs": [
    {
     "data": {
      "image/png": "[encoded data removed]",
      "text/plain": [
       "<Figure size 432x288 with 1 Axes>"
      ]
     },
     "metadata": {
      "needs_background": "light"
     },
     "output_type": "display_data"
    }
   ],
   "source": [
    "plt.plot(unique_words['count'][:10] / number_of_words);"
   ]
  },
  {
   "cell_type": "code",
   "execution_count": 13,
   "metadata": {},
   "outputs": [
    {
     "data": {
      "image/png": "[encoded data removed]",
      "text/plain": [
       "<Figure size 432x288 with 1 Axes>"
      ]
     },
     "metadata": {
      "needs_background": "light"
     },
     "output_type": "display_data"
    }
   ],
   "source": [
    "plt.plot(unique_words['count'][10:20] / number_of_words);"
   ]
  },
  {
   "cell_type": "code",
   "execution_count": 14,
   "metadata": {},
   "outputs": [
    {
     "data": {
      "image/png": "[encoded data removed]",
      "text/plain": [
       "<Figure size 432x288 with 1 Axes>"
      ]
     },
     "metadata": {
      "needs_background": "light"
     },
     "output_type": "display_data"
    }
   ],
   "source": [
    "plt.plot(unique_words['count'][20:30] / number_of_words);"
   ]
  },
  {
   "cell_type": "markdown",
   "metadata": {},
   "source": [
    "## Helper Functions"
   ]
  },
  {
   "cell_type": "code",
   "execution_count": 34,
   "metadata": {},
   "outputs": [],
   "source": [
    "def acc_pre_rec(y, y_hat):\n",
    "    tp = np.sum((y == y_hat) & (y == 1))\n",
    "    tn = np.sum((y == y_hat) & (y == 0))\n",
    "    fp = np.sum((y != y_hat) & (y == 0))\n",
    "    fn = np.sum((y != y_hat) & (y == 1))\n",
    "    accuracy = (tp + tn) / (tp + tn + fp + fn)\n",
    "    precision = tp / (tp + fp)\n",
    "    recall = tp / (tp + fn)\n",
    "    return accuracy, precision, recall"
   ]
  },
  {
   "cell_type": "code",
   "execution_count": 61,
   "metadata": {},
   "outputs": [],
   "source": [
    "def tf(term, corpus):\n",
    "    counts = corpus.str.count(re.escape(term))\n",
    "    return counts / corpus.shape[0]"
   ]
  },
  {
   "cell_type": "code",
   "execution_count": 57,
   "metadata": {},
   "outputs": [],
   "source": [
    "def idf(term, corpus):\n",
    "    return np.log(corpus.shape[0]) / np.sum(corpus.str.contains(term, regex=False))"
   ]
  },
  {
   "cell_type": "code",
   "execution_count": 46,
   "metadata": {},
   "outputs": [],
   "source": [
    "def tfidf(term, corpus):\n",
    "    return tf(term, corpus) * idf(term, corpus)"
   ]
  },
  {
   "cell_type": "markdown",
   "metadata": {},
   "source": [
    "# VADER"
   ]
  },
  {
   "cell_type": "code",
   "execution_count": 18,
   "metadata": {},
   "outputs": [],
   "source": [
    "from vaderSentiment.vaderSentiment import SentimentIntensityAnalyzer \n",
    "\n",
    "vader_df = df.copy()"
   ]
  },
  {
   "cell_type": "code",
   "execution_count": 26,
   "metadata": {},
   "outputs": [
    {
     "data": {
      "text/html": [
       "<div>\n",
       "<style scoped>\n",
       "    .dataframe tbody tr th:only-of-type {\n",
       "        vertical-align: middle;\n",
       "    }\n",
       "\n",
       "    .dataframe tbody tr th {\n",
       "        vertical-align: top;\n",
       "    }\n",
       "\n",
       "    .dataframe thead th {\n",
       "        text-align: right;\n",
       "    }\n",
       "</style>\n",
       "<table border=\"1\" class=\"dataframe\">\n",
       "  <thead>\n",
       "    <tr style=\"text-align: right;\">\n",
       "      <th></th>\n",
       "      <th>title</th>\n",
       "      <th>content</th>\n",
       "      <th>goodMood</th>\n",
       "      <th>neg</th>\n",
       "      <th>neu</th>\n",
       "      <th>pos</th>\n",
       "      <th>compound</th>\n",
       "    </tr>\n",
       "  </thead>\n",
       "  <tbody>\n",
       "    <tr>\n",
       "      <td>0</td>\n",
       "      <td>11-9-2017</td>\n",
       "      <td>hello how should i start umm well i am making ...</td>\n",
       "      <td>1</td>\n",
       "      <td>0.050</td>\n",
       "      <td>0.872</td>\n",
       "      <td>0.078</td>\n",
       "      <td>0.7269</td>\n",
       "    </tr>\n",
       "    <tr>\n",
       "      <td>1</td>\n",
       "      <td>11-11-2017</td>\n",
       "      <td>ok so new plan i just sleep after i take my sh...</td>\n",
       "      <td>1</td>\n",
       "      <td>0.069</td>\n",
       "      <td>0.787</td>\n",
       "      <td>0.144</td>\n",
       "      <td>0.9230</td>\n",
       "    </tr>\n",
       "    <tr>\n",
       "      <td>2</td>\n",
       "      <td>11-13-2017</td>\n",
       "      <td>well a lot has happened okay sorry for not wri...</td>\n",
       "      <td>0</td>\n",
       "      <td>0.140</td>\n",
       "      <td>0.758</td>\n",
       "      <td>0.102</td>\n",
       "      <td>-0.9386</td>\n",
       "    </tr>\n",
       "    <tr>\n",
       "      <td>3</td>\n",
       "      <td>11-14-2017</td>\n",
       "      <td>damn it i overslept again i hate myself right ...</td>\n",
       "      <td>0</td>\n",
       "      <td>0.095</td>\n",
       "      <td>0.807</td>\n",
       "      <td>0.099</td>\n",
       "      <td>0.4218</td>\n",
       "    </tr>\n",
       "    <tr>\n",
       "      <td>4</td>\n",
       "      <td>11-15-2017</td>\n",
       "      <td>so i went on a run today yodai was there too t...</td>\n",
       "      <td>1</td>\n",
       "      <td>0.107</td>\n",
       "      <td>0.835</td>\n",
       "      <td>0.058</td>\n",
       "      <td>-0.7692</td>\n",
       "    </tr>\n",
       "  </tbody>\n",
       "</table>\n",
       "</div>"
      ],
      "text/plain": [
       "        title                                            content  goodMood  \\\n",
       "0   11-9-2017  hello how should i start umm well i am making ...         1   \n",
       "1  11-11-2017  ok so new plan i just sleep after i take my sh...         1   \n",
       "2  11-13-2017  well a lot has happened okay sorry for not wri...         0   \n",
       "3  11-14-2017  damn it i overslept again i hate myself right ...         0   \n",
       "4  11-15-2017  so i went on a run today yodai was there too t...         1   \n",
       "\n",
       "     neg    neu    pos  compound  \n",
       "0  0.050  0.872  0.078    0.7269  \n",
       "1  0.069  0.787  0.144    0.9230  \n",
       "2  0.140  0.758  0.102   -0.9386  \n",
       "3  0.095  0.807  0.099    0.4218  \n",
       "4  0.107  0.835  0.058   -0.7692  "
      ]
     },
     "execution_count": 26,
     "metadata": {},
     "output_type": "execute_result"
    }
   ],
   "source": [
    "vader_analyzer = SentimentIntensityAnalyzer()\n",
    "for i in range(vader_df.shape[0]):\n",
    "    result = vader_analyzer.polarity_scores(vader_df.loc[i, 'content'])\n",
    "    vader_df.loc[i, 'neg'] = result['neg']\n",
    "    vader_df.loc[i, 'neu'] = result['neu']\n",
    "    vader_df.loc[i, 'pos'] = result['pos']\n",
    "    vader_df.loc[i, 'compound'] = result['compound']\n",
    "\n",
    "vader_df.head()"
   ]
  },
  {
   "cell_type": "code",
   "execution_count": 35,
   "metadata": {},
   "outputs": [
    {
     "data": {
      "text/plain": [
       "(0.576271186440678, 0.5081967213114754, 0.8051948051948052)"
      ]
     },
     "execution_count": 35,
     "metadata": {},
     "output_type": "execute_result"
    }
   ],
   "source": [
    "y = vader_df['goodMood']\n",
    "y_hat = (vader_df['pos'] > vader_df['neg']).astype(int)\n",
    "acc_pre_rec(y, y_hat)"
   ]
  },
  {
   "cell_type": "markdown",
   "metadata": {},
   "source": [
    "# TFIDF"
   ]
  },
  {
   "cell_type": "code",
   "execution_count": 333,
   "metadata": {},
   "outputs": [],
   "source": [
    "from sklearn.feature_extraction.text import TfidfVectorizer\n",
    "\n",
    "tfidf_df = df.copy()"
   ]
  },
  {
   "cell_type": "code",
   "execution_count": 62,
   "metadata": {},
   "outputs": [],
   "source": [
    "tfidf_data = {word: tfidf(word, tfidf_df['content']) for word in unique_words.index}"
   ]
  },
  {
   "cell_type": "code",
   "execution_count": 64,
   "metadata": {},
   "outputs": [],
   "source": [
    "tfidf_data_df = pd.DataFrame(tfidf_data)"
   ]
  },
  {
   "cell_type": "code",
   "execution_count": 65,
   "metadata": {},
   "outputs": [
    {
     "data": {
      "text/html": [
       "<div>\n",
       "<style scoped>\n",
       "    .dataframe tbody tr th:only-of-type {\n",
       "        vertical-align: middle;\n",
       "    }\n",
       "\n",
       "    .dataframe tbody tr th {\n",
       "        vertical-align: top;\n",
       "    }\n",
       "\n",
       "    .dataframe thead th {\n",
       "        text-align: right;\n",
       "    }\n",
       "</style>\n",
       "<table border=\"1\" class=\"dataframe\">\n",
       "  <thead>\n",
       "    <tr style=\"text-align: right;\">\n",
       "      <th></th>\n",
       "      <th>i</th>\n",
       "      <th>to</th>\n",
       "      <th>the</th>\n",
       "      <th>a</th>\n",
       "      <th>is</th>\n",
       "      <th>and</th>\n",
       "      <th>it</th>\n",
       "      <th>that</th>\n",
       "      <th>my</th>\n",
       "      <th>have</th>\n",
       "      <th>...</th>\n",
       "      <th>dizzy</th>\n",
       "      <th>tabs</th>\n",
       "      <th>supports</th>\n",
       "      <th>80%</th>\n",
       "      <th>coke</th>\n",
       "      <th>haas</th>\n",
       "      <th>demo</th>\n",
       "      <th>eecs126</th>\n",
       "      <th>colors</th>\n",
       "      <th>careful</th>\n",
       "    </tr>\n",
       "  </thead>\n",
       "  <tbody>\n",
       "    <tr>\n",
       "      <td>0</td>\n",
       "      <td>0.011731</td>\n",
       "      <td>0.001652</td>\n",
       "      <td>0.001521</td>\n",
       "      <td>0.014374</td>\n",
       "      <td>0.001345</td>\n",
       "      <td>0.001057</td>\n",
       "      <td>0.001014</td>\n",
       "      <td>0.000183</td>\n",
       "      <td>0.000705</td>\n",
       "      <td>0.000187</td>\n",
       "      <td>...</td>\n",
       "      <td>0.0</td>\n",
       "      <td>0.000000</td>\n",
       "      <td>0.0</td>\n",
       "      <td>0.0</td>\n",
       "      <td>0.0</td>\n",
       "      <td>0.0</td>\n",
       "      <td>0.0</td>\n",
       "      <td>0.0</td>\n",
       "      <td>0.0</td>\n",
       "      <td>0.0</td>\n",
       "    </tr>\n",
       "    <tr>\n",
       "      <td>1</td>\n",
       "      <td>0.009913</td>\n",
       "      <td>0.001487</td>\n",
       "      <td>0.000845</td>\n",
       "      <td>0.011565</td>\n",
       "      <td>0.001008</td>\n",
       "      <td>0.000705</td>\n",
       "      <td>0.001014</td>\n",
       "      <td>0.000731</td>\n",
       "      <td>0.000705</td>\n",
       "      <td>0.000000</td>\n",
       "      <td>...</td>\n",
       "      <td>0.0</td>\n",
       "      <td>0.000000</td>\n",
       "      <td>0.0</td>\n",
       "      <td>0.0</td>\n",
       "      <td>0.0</td>\n",
       "      <td>0.0</td>\n",
       "      <td>0.0</td>\n",
       "      <td>0.0</td>\n",
       "      <td>0.0</td>\n",
       "      <td>0.0</td>\n",
       "    </tr>\n",
       "    <tr>\n",
       "      <td>2</td>\n",
       "      <td>0.018670</td>\n",
       "      <td>0.003304</td>\n",
       "      <td>0.002028</td>\n",
       "      <td>0.019496</td>\n",
       "      <td>0.002521</td>\n",
       "      <td>0.001233</td>\n",
       "      <td>0.000845</td>\n",
       "      <td>0.001462</td>\n",
       "      <td>0.000352</td>\n",
       "      <td>0.000562</td>\n",
       "      <td>...</td>\n",
       "      <td>0.0</td>\n",
       "      <td>0.000000</td>\n",
       "      <td>0.0</td>\n",
       "      <td>0.0</td>\n",
       "      <td>0.0</td>\n",
       "      <td>0.0</td>\n",
       "      <td>0.0</td>\n",
       "      <td>0.0</td>\n",
       "      <td>0.0</td>\n",
       "      <td>0.0</td>\n",
       "    </tr>\n",
       "    <tr>\n",
       "      <td>3</td>\n",
       "      <td>0.012061</td>\n",
       "      <td>0.001652</td>\n",
       "      <td>0.001859</td>\n",
       "      <td>0.011731</td>\n",
       "      <td>0.001513</td>\n",
       "      <td>0.000705</td>\n",
       "      <td>0.001183</td>\n",
       "      <td>0.000914</td>\n",
       "      <td>0.000529</td>\n",
       "      <td>0.000375</td>\n",
       "      <td>...</td>\n",
       "      <td>0.0</td>\n",
       "      <td>0.029244</td>\n",
       "      <td>0.0</td>\n",
       "      <td>0.0</td>\n",
       "      <td>0.0</td>\n",
       "      <td>0.0</td>\n",
       "      <td>0.0</td>\n",
       "      <td>0.0</td>\n",
       "      <td>0.0</td>\n",
       "      <td>0.0</td>\n",
       "    </tr>\n",
       "    <tr>\n",
       "      <td>4</td>\n",
       "      <td>0.007435</td>\n",
       "      <td>0.000991</td>\n",
       "      <td>0.001183</td>\n",
       "      <td>0.006774</td>\n",
       "      <td>0.001008</td>\n",
       "      <td>0.000000</td>\n",
       "      <td>0.000507</td>\n",
       "      <td>0.000548</td>\n",
       "      <td>0.000529</td>\n",
       "      <td>0.000187</td>\n",
       "      <td>...</td>\n",
       "      <td>0.0</td>\n",
       "      <td>0.000000</td>\n",
       "      <td>0.0</td>\n",
       "      <td>0.0</td>\n",
       "      <td>0.0</td>\n",
       "      <td>0.0</td>\n",
       "      <td>0.0</td>\n",
       "      <td>0.0</td>\n",
       "      <td>0.0</td>\n",
       "      <td>0.0</td>\n",
       "    </tr>\n",
       "  </tbody>\n",
       "</table>\n",
       "<p>5 rows × 3498 columns</p>\n",
       "</div>"
      ],
      "text/plain": [
       "          i        to       the         a        is       and        it  \\\n",
       "0  0.011731  0.001652  0.001521  0.014374  0.001345  0.001057  0.001014   \n",
       "1  0.009913  0.001487  0.000845  0.011565  0.001008  0.000705  0.001014   \n",
       "2  0.018670  0.003304  0.002028  0.019496  0.002521  0.001233  0.000845   \n",
       "3  0.012061  0.001652  0.001859  0.011731  0.001513  0.000705  0.001183   \n",
       "4  0.007435  0.000991  0.001183  0.006774  0.001008  0.000000  0.000507   \n",
       "\n",
       "       that        my      have  ...  dizzy      tabs  supports  80%  coke  \\\n",
       "0  0.000183  0.000705  0.000187  ...    0.0  0.000000       0.0  0.0   0.0   \n",
       "1  0.000731  0.000705  0.000000  ...    0.0  0.000000       0.0  0.0   0.0   \n",
       "2  0.001462  0.000352  0.000562  ...    0.0  0.000000       0.0  0.0   0.0   \n",
       "3  0.000914  0.000529  0.000375  ...    0.0  0.029244       0.0  0.0   0.0   \n",
       "4  0.000548  0.000529  0.000187  ...    0.0  0.000000       0.0  0.0   0.0   \n",
       "\n",
       "   haas  demo  eecs126  colors  careful  \n",
       "0   0.0   0.0      0.0     0.0      0.0  \n",
       "1   0.0   0.0      0.0     0.0      0.0  \n",
       "2   0.0   0.0      0.0     0.0      0.0  \n",
       "3   0.0   0.0      0.0     0.0      0.0  \n",
       "4   0.0   0.0      0.0     0.0      0.0  \n",
       "\n",
       "[5 rows x 3498 columns]"
      ]
     },
     "execution_count": 65,
     "metadata": {},
     "output_type": "execute_result"
    }
   ],
   "source": [
    "tfidf_data_df.head()"
   ]
  },
  {
   "cell_type": "code",
   "execution_count": 101,
   "metadata": {},
   "outputs": [
    {
     "data": {
      "text/plain": [
       "      0.182396\n",
       "a     0.012086\n",
       "i     0.011910\n",
       "s     0.008243\n",
       "h     0.007296\n",
       "r     0.006935\n",
       "m     0.004691\n",
       "g     0.003711\n",
       "th    0.003571\n",
       "c     0.003153\n",
       "dtype: float64"
      ]
     },
     "execution_count": 101,
     "metadata": {},
     "output_type": "execute_result"
    }
   ],
   "source": [
    "np.mean(tfidf_data_df, axis=0).nlargest(10)"
   ]
  },
  {
   "cell_type": "code",
   "execution_count": 102,
   "metadata": {},
   "outputs": [],
   "source": [
    "data_train, data_test, y_train, y_test = train_test_split(tfidf_df['content'], tfidf_df['goodMood'], \n",
    "                                                    test_size=0.2, random_state = 42)"
   ]
  },
  {
   "cell_type": "code",
   "execution_count": 104,
   "metadata": {},
   "outputs": [
    {
     "data": {
      "text/plain": [
       "['00', '000webhost', '04', '10', '100']"
      ]
     },
     "execution_count": 104,
     "metadata": {},
     "output_type": "execute_result"
    }
   ],
   "source": [
    "vectorizer = TfidfVectorizer()\n",
    "X_train = vectorizer.fit_transform(data_train)\n",
    "\n",
    "X_test = vectorizer.transform(data_test)\n",
    "\n",
    "feature_names = vectorizer.get_feature_names()\n",
    "feature_names[:5]"
   ]
  },
  {
   "cell_type": "markdown",
   "metadata": {},
   "source": [
    "### Logistic Regression"
   ]
  },
  {
   "cell_type": "code",
   "execution_count": 111,
   "metadata": {},
   "outputs": [
    {
     "data": {
      "text/plain": [
       "(0.5833333333333334, 1.0, 0.11764705882352941)"
      ]
     },
     "execution_count": 111,
     "metadata": {},
     "output_type": "execute_result"
    }
   ],
   "source": [
    "tfidf_logistic_model = LogisticRegression(solver='lbfgs')\n",
    "tfidf_logistic_model.fit(X_train, y_train)\n",
    "\n",
    "y_hat = tfidf_logistic_model.predict(X_test)\n",
    "acc_pre_rec(y_test, y_hat)"
   ]
  },
  {
   "cell_type": "markdown",
   "metadata": {},
   "source": [
    "### Random Forests"
   ]
  },
  {
   "cell_type": "code",
   "execution_count": 115,
   "metadata": {},
   "outputs": [
    {
     "name": "stderr",
     "output_type": "stream",
     "text": [
      "/home/shershah/miniconda3/lib/python3.7/site-packages/sklearn/ensemble/forest.py:245: FutureWarning: The default value of n_estimators will change from 10 in version 0.20 to 100 in 0.22.\n",
      "  \"10 in version 0.20 to 100 in 0.22.\", FutureWarning)\n"
     ]
    },
    {
     "data": {
      "text/plain": [
       "(0.5555555555555556, 0.5555555555555556, 0.29411764705882354)"
      ]
     },
     "execution_count": 115,
     "metadata": {},
     "output_type": "execute_result"
    }
   ],
   "source": [
    "tfidf_rfc_model = RandomForestClassifier()\n",
    "tfidf_rfc_model.fit(X_train, y_train)\n",
    "\n",
    "y_hat = tfidf_rfc_model.predict(X_test)\n",
    "acc_pre_rec(y_test, y_hat)"
   ]
  },
  {
   "cell_type": "markdown",
   "metadata": {},
   "source": [
    "# Bag of Words"
   ]
  },
  {
   "cell_type": "code",
   "execution_count": 127,
   "metadata": {},
   "outputs": [],
   "source": [
    "from nltk.corpus import stopwords\n",
    "stopwords = list(stopwords.words('english'))\n",
    "\n",
    "bow_df = df.copy()"
   ]
  },
  {
   "cell_type": "code",
   "execution_count": 129,
   "metadata": {},
   "outputs": [],
   "source": [
    "bow_unique_words = unique_words.loc[~unique_words.index.isin(stopwords)]"
   ]
  },
  {
   "cell_type": "code",
   "execution_count": 124,
   "metadata": {},
   "outputs": [
    {
     "name": "stdout",
     "output_type": "stream",
     "text": [
      "showing info https://raw.githubusercontent.com/nltk/nltk_data/gh-pages/index.xml\n"
     ]
    },
    {
     "data": {
      "text/plain": [
       "True"
      ]
     },
     "execution_count": 124,
     "metadata": {},
     "output_type": "execute_result"
    }
   ],
   "source": [
    "nltk.download()"
   ]
  },
  {
   "cell_type": "code",
   "execution_count": 135,
   "metadata": {},
   "outputs": [
    {
     "data": {
      "text/html": [
       "<div>\n",
       "<style scoped>\n",
       "    .dataframe tbody tr th:only-of-type {\n",
       "        vertical-align: middle;\n",
       "    }\n",
       "\n",
       "    .dataframe tbody tr th {\n",
       "        vertical-align: top;\n",
       "    }\n",
       "\n",
       "    .dataframe thead th {\n",
       "        text-align: right;\n",
       "    }\n",
       "</style>\n",
       "<table border=\"1\" class=\"dataframe\">\n",
       "  <thead>\n",
       "    <tr style=\"text-align: right;\">\n",
       "      <th></th>\n",
       "      <th>count</th>\n",
       "      <th>length</th>\n",
       "    </tr>\n",
       "  </thead>\n",
       "  <tbody>\n",
       "    <tr>\n",
       "      <td>need</td>\n",
       "      <td>286</td>\n",
       "      <td>4</td>\n",
       "    </tr>\n",
       "    <tr>\n",
       "      <td>also</td>\n",
       "      <td>260</td>\n",
       "      <td>4</td>\n",
       "    </tr>\n",
       "    <tr>\n",
       "      <td>going</td>\n",
       "      <td>250</td>\n",
       "      <td>5</td>\n",
       "    </tr>\n",
       "    <tr>\n",
       "      <td>work</td>\n",
       "      <td>232</td>\n",
       "      <td>4</td>\n",
       "    </tr>\n",
       "    <tr>\n",
       "      <td>really</td>\n",
       "      <td>215</td>\n",
       "      <td>6</td>\n",
       "    </tr>\n",
       "  </tbody>\n",
       "</table>\n",
       "</div>"
      ],
      "text/plain": [
       "        count  length\n",
       "need      286       4\n",
       "also      260       4\n",
       "going     250       5\n",
       "work      232       4\n",
       "really    215       6"
      ]
     },
     "execution_count": 135,
     "metadata": {},
     "output_type": "execute_result"
    }
   ],
   "source": [
    "bow_unique_words.head()"
   ]
  },
  {
   "cell_type": "code",
   "execution_count": 140,
   "metadata": {},
   "outputs": [],
   "source": [
    "data_train, data_test, y_train, y_test = train_test_split(bow_df['content'], bow_df['goodMood'], \n",
    "                                                    test_size=0.2, random_state = 42)"
   ]
  },
  {
   "cell_type": "code",
   "execution_count": 143,
   "metadata": {},
   "outputs": [],
   "source": [
    "X_train = pd.DataFrame({word: data_train.str.count(re.escape(word)) for word in bow_unique_words.index})\n",
    "X_test = pd.DataFrame({word: data_test.str.count(re.escape(word)) for word in bow_unique_words.index})"
   ]
  },
  {
   "cell_type": "code",
   "execution_count": 146,
   "metadata": {},
   "outputs": [
    {
     "name": "stderr",
     "output_type": "stream",
     "text": [
      "/home/shershah/miniconda3/lib/python3.7/site-packages/sklearn/linear_model/logistic.py:947: ConvergenceWarning: lbfgs failed to converge. Increase the number of iterations.\n",
      "  \"of iterations.\", ConvergenceWarning)\n"
     ]
    },
    {
     "data": {
      "text/plain": [
       "(0.6111111111111112, 0.6153846153846154, 0.47058823529411764)"
      ]
     },
     "execution_count": 146,
     "metadata": {},
     "output_type": "execute_result"
    }
   ],
   "source": [
    "bow_logistic_model = LogisticRegression(solver='lbfgs')\n",
    "bow_logistic_model.fit(X_train, y_train)\n",
    "\n",
    "y_hat = bow_logistic_model.predict(X_test)\n",
    "acc_pre_rec(y_test, y_hat)"
   ]
  },
  {
   "cell_type": "code",
   "execution_count": 340,
   "metadata": {},
   "outputs": [],
   "source": [
    "from sklearn.pipeline import Pipeline\n",
    "from sklearn.naive_bayes import MultinomialNB\n",
    "from sklearn.feature_extraction.text import CountVectorizer\n",
    "from sklearn.feature_extraction.text import TfidfTransformer\n",
    "\n",
    "text_clf = Pipeline([('vect', CountVectorizer()), ('tfidf', TfidfTransformer()), ('clf', MultinomialNB()),])\n",
    "text_clf = text_clf.fit(data_train, y_train)"
   ]
  },
  {
   "cell_type": "code",
   "execution_count": 342,
   "metadata": {},
   "outputs": [
    {
     "data": {
      "text/plain": [
       "(0.5555555555555556, 1.0, 0.058823529411764705)"
      ]
     },
     "execution_count": 342,
     "metadata": {},
     "output_type": "execute_result"
    }
   ],
   "source": [
    "acc_pre_rec(y_test, text_clf.predict(data_test))"
   ]
  },
  {
   "cell_type": "code",
   "execution_count": 346,
   "metadata": {},
   "outputs": [
    {
     "data": {
      "text/plain": [
       "Pipeline(memory=None,\n",
       "         steps=[('vect',\n",
       "                 CountVectorizer(analyzer='word', binary=False,\n",
       "                                 decode_error='strict',\n",
       "                                 dtype=<class 'numpy.int64'>, encoding='utf-8',\n",
       "                                 input='content', lowercase=True, max_df=1.0,\n",
       "                                 max_features=None, min_df=1,\n",
       "                                 ngram_range=(1, 1), preprocessor=None,\n",
       "                                 stop_words=None, strip_accents=None,\n",
       "                                 token_pattern='(?u)\\\\b\\\\w\\\\w+\\\\b',\n",
       "                                 tokenizer=None, vocabulary=Non...\n",
       "                ('clf-svm',\n",
       "                 SGDClassifier(alpha=0.001, average=False, class_weight=None,\n",
       "                               early_stopping=False, epsilon=0.1, eta0=0.0,\n",
       "                               fit_intercept=True, l1_ratio=0.15,\n",
       "                               learning_rate='optimal', loss='hinge',\n",
       "                               max_iter=1000, n_iter_no_change=5, n_jobs=None,\n",
       "                               penalty='l2', power_t=0.5, random_state=42,\n",
       "                               shuffle=True, tol=0.001, validation_fraction=0.1,\n",
       "                               verbose=0, warm_start=False))],\n",
       "         verbose=False)"
      ]
     },
     "execution_count": 346,
     "metadata": {},
     "output_type": "execute_result"
    }
   ],
   "source": [
    "from sklearn.linear_model import SGDClassifier\n",
    "\n",
    "text_clf_svm = Pipeline([('vect', CountVectorizer()),\n",
    "                         ('tfidf', TfidfTransformer()),\n",
    "                         ('clf-svm', SGDClassifier(loss='hinge', penalty='l2',\n",
    "                                          alpha=1e-3, random_state=42)),\n",
    "])\n",
    "\n",
    "text_clf_svm.fit(data_train, y_train)"
   ]
  },
  {
   "cell_type": "code",
   "execution_count": 347,
   "metadata": {},
   "outputs": [
    {
     "data": {
      "text/plain": [
       "(0.6388888888888888, 0.6111111111111112, 0.6470588235294118)"
      ]
     },
     "execution_count": 347,
     "metadata": {},
     "output_type": "execute_result"
    }
   ],
   "source": [
    "acc_pre_rec(y_test, text_clf_svm.predict(data_test))"
   ]
  },
  {
   "cell_type": "code",
   "execution_count": 352,
   "metadata": {},
   "outputs": [
    {
     "data": {
      "text/plain": [
       "19     hey so now i am adding titles to my diary entr...\n",
       "45     so i am currently working on data science stuf...\n",
       "139    i am back home i have lot to do finals were br...\n",
       "30     so i went to virginia the plane ride was long ...\n",
       "67     i am realy sleepy right now i don't know why i...\n",
       "16     sorry for not writing soon i have been busy an...\n",
       "119    well it is now official spring break i finishe...\n",
       "173    i got paid finally sure it is only a fraction ...\n",
       "109    my family execpt sama went off to pakistan yes...\n",
       "140    so i had my phone interview today with northru...\n",
       "24     it has been a while hasn't it i feel so tired ...\n",
       "161    classes start tomorrow i am not ready nor do i...\n",
       "41     so i am making chili i bought all the ingredie...\n",
       "118    sorry i have not written in a while i have not...\n",
       "15     sorry for not writing in a while i just got re...\n",
       "111    i am writting this from my bed the day was lon...\n",
       "113    so today was sarah's birthday she got a cake a...\n",
       "82     hey i really need to get better at making thes...\n",
       "9      okay i have a few things to explain one two da...\n",
       "114    so today stuff happened i showered i ate a nic...\n",
       "18     okay so i just finished watching episode twele...\n",
       "66     i am finished with finals man that was not har...\n",
       "60     sorry for not writting in a while a lot of thi...\n",
       "168    so i basically failed all of my midterms but i...\n",
       "170    so there is an extra credit assignment for cs6...\n",
       "150    a lot has happened the most important thing i ...\n",
       "117    so steven hawking died today i got some good w...\n",
       "65     hey so i am back home it is good to be back i ...\n",
       "90     okay so i have not been too good keeping this ...\n",
       "55     so my family is back from pakistan it is nice ...\n",
       "29     so a lot happened over the weekend my family c...\n",
       "127    i am really board and i do not want to do anyt...\n",
       "144                             nader is going to jordan\n",
       "31     hey sorry for the long period of no activity s...\n",
       "12     wow it is the last month of the year sorry for...\n",
       "42     so i tried to make cinnamon buns today they di...\n",
       "Name: content, dtype: object"
      ]
     },
     "execution_count": 352,
     "metadata": {},
     "output_type": "execute_result"
    }
   ],
   "source": [
    "data_test"
   ]
  },
  {
   "cell_type": "markdown",
   "metadata": {},
   "source": [
    "# N-Gram"
   ]
  },
  {
   "cell_type": "markdown",
   "metadata": {},
   "source": [
    "### Bigram"
   ]
  },
  {
   "cell_type": "code",
   "execution_count": 185,
   "metadata": {},
   "outputs": [],
   "source": [
    "bigram_df = df.copy()"
   ]
  },
  {
   "cell_type": "code",
   "execution_count": 186,
   "metadata": {},
   "outputs": [],
   "source": [
    "bigrams_train = [list(nltk.bigrams(nltk.word_tokenize(s))) for s in bigram_df['content']]\n",
    "bigrams_train = [[a + ' ' + b for a, b in l] for l in bigrams_train]\n",
    "_bigrams_train = np.unique(np.array(bigrams_train))\n",
    "bigrams_train = []\n",
    "for bigrams in _bigrams_train:\n",
    "            bigrams_train.extend(bigrams)"
   ]
  },
  {
   "cell_type": "code",
   "execution_count": 150,
   "metadata": {},
   "outputs": [
    {
     "data": {
      "text/plain": [
       "[('so', 'the'),\n",
       " ('the', 'backend'),\n",
       " ('backend', 'is'),\n",
       " ('is', 'now'),\n",
       " ('now', 'connected'),\n",
       " ('connected', 'to'),\n",
       " ('to', 'mongodb'),\n",
       " ('mongodb', 'this'),\n",
       " ('this', 'means'),\n",
       " ('means', 'that'),\n",
       " ('that', 'there'),\n",
       " ('there', 'are'),\n",
       " ('are', 'no'),\n",
       " ('no', 'more'),\n",
       " ('more', 'files'),\n",
       " ('files', 'to'),\n",
       " ('to', 'worry'),\n",
       " ('worry', 'about'),\n",
       " ('about', 'everything'),\n",
       " ('everything', 'is'),\n",
       " ('is', 'stored'),\n",
       " ('stored', 'in'),\n",
       " ('in', 'the'),\n",
       " ('the', 'cloud'),\n",
       " ('cloud', 'it'),\n",
       " ('it', 'is'),\n",
       " ('is', 'also'),\n",
       " ('also', 'awesome'),\n",
       " ('awesome', 'because'),\n",
       " ('because', 'i'),\n",
       " ('i', 'now'),\n",
       " ('now', 'know'),\n",
       " ('know', 'the'),\n",
       " ('the', 'mean'),\n",
       " ('mean', 'stack'),\n",
       " ('stack', 'which'),\n",
       " ('which', 'is'),\n",
       " ('is', 'mongodb'),\n",
       " ('mongodb', 'expressjs'),\n",
       " ('expressjs', 'angularjs'),\n",
       " ('angularjs', 'and'),\n",
       " ('and', 'nodejs'),\n",
       " ('nodejs', 'i'),\n",
       " ('i', 'am'),\n",
       " ('am', 'going'),\n",
       " ('going', 'to'),\n",
       " ('to', 'put'),\n",
       " ('put', 'that'),\n",
       " ('that', 'on'),\n",
       " ('on', 'my'),\n",
       " ('my', 'resume'),\n",
       " ('resume', 'right'),\n",
       " ('right', 'away'),\n",
       " ('away', 'tommy'),\n",
       " ('tommy', 'is'),\n",
       " ('is', 'working'),\n",
       " ('working', 'for'),\n",
       " ('for', 'his'),\n",
       " ('his', 'company'),\n",
       " ('company', 'but'),\n",
       " ('but', 'he'),\n",
       " ('he', 'says'),\n",
       " ('says', 'there'),\n",
       " ('there', 'is'),\n",
       " ('is', 'a'),\n",
       " ('a', 'lot'),\n",
       " ('lot', 'of'),\n",
       " ('of', 'drama'),\n",
       " ('drama', 'i'),\n",
       " ('i', 'hope'),\n",
       " ('hope', 'he'),\n",
       " ('he', 'gets'),\n",
       " ('gets', 'though'),\n",
       " ('though', 'it'),\n",
       " ('it', 'fine'),\n",
       " ('fine', 'i'),\n",
       " ('i', 'have'),\n",
       " ('have', 'been'),\n",
       " ('been', 'studying'),\n",
       " ('studying', 'probability'),\n",
       " ('probability', 'to'),\n",
       " ('to', 'a'),\n",
       " ('a', 'little'),\n",
       " ('little', 'degree'),\n",
       " ('degree', 'of'),\n",
       " ('of', 'success'),\n",
       " ('success', 'i'),\n",
       " ('i', 'also'),\n",
       " ('also', 'need'),\n",
       " ('need', 'to'),\n",
       " ('to', 'work'),\n",
       " ('work', 'on'),\n",
       " ('on', 'askoski'),\n",
       " ('askoski', 'more'),\n",
       " ('more', 'summer'),\n",
       " ('summer', 'is'),\n",
       " ('is', 'coming'),\n",
       " ('coming', 'to'),\n",
       " ('to', 'a'),\n",
       " ('a', 'close'),\n",
       " ('close', 'and'),\n",
       " ('and', 'i'),\n",
       " ('i', 'hope'),\n",
       " ('hope', 'i'),\n",
       " ('i', 'spent'),\n",
       " ('spent', 'it'),\n",
       " ('it', 'well'),\n",
       " ('well', 'i'),\n",
       " ('i', 'am'),\n",
       " ('am', 'a'),\n",
       " ('a', 'bit'),\n",
       " ('bit', 'worried'),\n",
       " ('worried', 'about'),\n",
       " ('about', 'move-in'),\n",
       " ('move-in', 'since'),\n",
       " ('since', 'i'),\n",
       " ('i', 'still'),\n",
       " ('still', 'have'),\n",
       " ('have', 'not'),\n",
       " ('not', 'got'),\n",
       " ('got', 'my'),\n",
       " ('my', 'move-in'),\n",
       " ('move-in', 'time'),\n",
       " ('time', 'i'),\n",
       " ('i', 'should'),\n",
       " ('should', 'call'),\n",
       " ('call', 'the'),\n",
       " ('the', 'berk'),\n",
       " ('berk', 'office'),\n",
       " ('office', 'i'),\n",
       " ('i', 'also'),\n",
       " ('also', 'read'),\n",
       " ('read', 'reviews'),\n",
       " ('reviews', 'that'),\n",
       " ('that', 'said'),\n",
       " ('said', 'the'),\n",
       " ('the', 'berk'),\n",
       " ('berk', 'was'),\n",
       " ('was', 'not'),\n",
       " ('not', 'a'),\n",
       " ('a', 'great'),\n",
       " ('great', 'place'),\n",
       " ('place', 'to'),\n",
       " ('to', 'stay'),\n",
       " ('stay', 'i'),\n",
       " ('i', 'am'),\n",
       " ('am', 'worried'),\n",
       " ('worried', 'about'),\n",
       " ('about', 'that'),\n",
       " ('that', 'i'),\n",
       " ('i', 'should'),\n",
       " ('should', 'also'),\n",
       " ('also', 'talk'),\n",
       " ('talk', 'to'),\n",
       " ('to', 'my'),\n",
       " ('my', 'roommates'),\n",
       " ('roommates', 'and'),\n",
       " ('and', 'see'),\n",
       " ('see', 'what'),\n",
       " ('what', 'they'),\n",
       " ('they', 'think'),\n",
       " ('think', 'or'),\n",
       " ('or', 'know'),\n",
       " ('know', 'i'),\n",
       " ('i', 'hope'),\n",
       " ('hope', 'everything'),\n",
       " ('everything', 'goes'),\n",
       " ('goes', 'alright'),\n",
       " ('alright', 'i'),\n",
       " ('i', 'tried'),\n",
       " ('tried', 'to'),\n",
       " ('to', 'restart'),\n",
       " ('restart', 'my'),\n",
       " ('my', 'running'),\n",
       " ('running', 'my'),\n",
       " ('my', 'knee'),\n",
       " ('knee', 'still'),\n",
       " ('still', 'hurts'),\n",
       " ('hurts', 'mom'),\n",
       " ('mom', 'made'),\n",
       " ('made', 'an'),\n",
       " ('an', 'appointment'),\n",
       " ('appointment', 'with'),\n",
       " ('with', 'the'),\n",
       " ('the', 'doctor'),\n",
       " ('doctor', 'for'),\n",
       " ('for', 'this'),\n",
       " ('this', 'friday'),\n",
       " ('friday', 'i'),\n",
       " ('i', 'hope'),\n",
       " ('hope', 'it'),\n",
       " ('it', 'goes'),\n",
       " ('goes', 'well'),\n",
       " ('this', 'is'),\n",
       " ('is', 'it'),\n",
       " ('it', 'it'),\n",
       " ('it', 'is'),\n",
       " ('is', 'the'),\n",
       " ('the', 'end'),\n",
       " ('end', 'of'),\n",
       " ('of', 'the'),\n",
       " ('the', 'semester'),\n",
       " ('semester', 'well'),\n",
       " ('well', 'there'),\n",
       " ('there', 'are'),\n",
       " ('are', 'finals'),\n",
       " ('finals', 'but'),\n",
       " ('but', 'that'),\n",
       " ('that', 'is'),\n",
       " ('is', 'about'),\n",
       " ('about', 'it'),\n",
       " ('it', 'my'),\n",
       " ('my', 'history'),\n",
       " ('history', 'paper'),\n",
       " ('paper', 'is'),\n",
       " ('is', 'due'),\n",
       " ('due', 'tomorrow'),\n",
       " ('tomorrow', 'all'),\n",
       " ('all', 'i'),\n",
       " ('i', 'hvae'),\n",
       " ('hvae', 'left'),\n",
       " ('left', 'is'),\n",
       " ('is', 'to'),\n",
       " ('to', 'make'),\n",
       " ('make', 'some'),\n",
       " ('some', 'edits'),\n",
       " ('edits', 'i'),\n",
       " ('i', 'worked'),\n",
       " ('worked', 'on'),\n",
       " ('on', 'my'),\n",
       " ('my', 'wesite'),\n",
       " ('wesite', 'yesterday'),\n",
       " ('yesterday', 'well'),\n",
       " ('well', 'techically'),\n",
       " ('techically', 'it'),\n",
       " ('it', 'was'),\n",
       " ('was', 'today'),\n",
       " ('today', 'css'),\n",
       " ('css', 'can'),\n",
       " ('can', 'be'),\n",
       " ('be', 'frustrating'),\n",
       " ('frustrating', 'at'),\n",
       " ('at', 'times'),\n",
       " ('times', 'other'),\n",
       " ('other', 'than'),\n",
       " ('than', 'this'),\n",
       " ('this', 'not'),\n",
       " ('not', 'much'),\n",
       " ('much', 'is'),\n",
       " ('is', 'going'),\n",
       " ('going', 'on'),\n",
       " ('on', 'i'),\n",
       " ('i', 'submitted'),\n",
       " ('submitted', 'my'),\n",
       " ('my', 'scheme'),\n",
       " ('scheme', 'art'),\n",
       " ('art', 'two'),\n",
       " ('two', 'days'),\n",
       " ('days', 'ago'),\n",
       " ('ago', 'i'),\n",
       " ('i', 'have'),\n",
       " ('have', 'a'),\n",
       " ('a', 'bit'),\n",
       " ('bit', 'of'),\n",
       " ('of', 'time'),\n",
       " ('time', 'before'),\n",
       " ('before', 'class'),\n",
       " ('class', 'starts'),\n",
       " ('starts', 'i'),\n",
       " ('i', 'am'),\n",
       " ('am', 'going'),\n",
       " ('going', 'to'),\n",
       " ('to', 'take'),\n",
       " ('take', 'a'),\n",
       " ('a', 'shower'),\n",
       " ('shower', 'but'),\n",
       " ('but', 'i'),\n",
       " ('i', \"don't\"),\n",
       " (\"don't\", 'know'),\n",
       " ('know', 'what'),\n",
       " ('what', \"i'll\"),\n",
       " (\"i'll\", 'do'),\n",
       " ('do', 'after'),\n",
       " ('after', 'that'),\n",
       " ('that', 'i'),\n",
       " ('i', \"can't\"),\n",
       " (\"can't\", 'wait'),\n",
       " ('wait', 'for'),\n",
       " ('for', 'this'),\n",
       " ('this', 'all'),\n",
       " ('all', 'to'),\n",
       " ('to', 'be'),\n",
       " ('be', 'over'),\n",
       " ('so', 'stuff'),\n",
       " ('stuff', 'happened'),\n",
       " ('happened', 'sama'),\n",
       " ('sama', 'came'),\n",
       " ('came', 'home'),\n",
       " ('home', 'and'),\n",
       " ('and', 'she'),\n",
       " ('she', 'started'),\n",
       " ('started', 'to'),\n",
       " ('to', 'order'),\n",
       " ('order', 'me'),\n",
       " ('me', 'around'),\n",
       " ('around', 'then'),\n",
       " ('then', 'she'),\n",
       " ('she', 'got'),\n",
       " ('got', 'really'),\n",
       " ('really', 'mad'),\n",
       " ('mad', 'at'),\n",
       " ('at', 'me'),\n",
       " ('me', 'i'),\n",
       " ('i', 'stayed'),\n",
       " ('stayed', 'in'),\n",
       " ('in', 'my'),\n",
       " ('my', 'room'),\n",
       " ('room', 'most'),\n",
       " ('most', ''),\n",
       " ('', 'of'),\n",
       " ('of', 'the'),\n",
       " ('the', 'day'),\n",
       " ('day', 'i'),\n",
       " ('i', 'am'),\n",
       " ('am', 'going'),\n",
       " ('going', 'to'),\n",
       " ('to', \"nader's\"),\n",
       " (\"nader's\", 'house'),\n",
       " ('house', 'tomorrow'),\n",
       " ('tomorrow', 'and'),\n",
       " ('and', 'i'),\n",
       " ('i', 'am'),\n",
       " ('am', 'going'),\n",
       " ('going', 'to'),\n",
       " ('to', 'hang'),\n",
       " ('hang', 'out'),\n",
       " ('out', 'with'),\n",
       " ('with', 'him'),\n",
       " ('him', 'i'),\n",
       " ('i', 'am'),\n",
       " ('am', 'going'),\n",
       " ('going', 'to'),\n",
       " ('to', 'hang'),\n",
       " ('hang', 'out'),\n",
       " ('out', 'with'),\n",
       " ('with', 'robert'),\n",
       " ('robert', 'on'),\n",
       " ('on', 'wensday'),\n",
       " ('wensday', 'i'),\n",
       " ('i', 'worked'),\n",
       " ('worked', 'more'),\n",
       " ('more', 'on'),\n",
       " ('on', 'talis'),\n",
       " ('talis', 'lux'),\n",
       " ('lux', 'i'),\n",
       " ('i', 'also'),\n",
       " ('also', 'created'),\n",
       " ('created', 'a'),\n",
       " ('a', 'little'),\n",
       " ('little', 'roleplaying'),\n",
       " ('roleplaying', 'story'),\n",
       " ('story', 'for'),\n",
       " ('for', 'sarah'),\n",
       " ('sarah', 'and'),\n",
       " ('and', 'soha'),\n",
       " ('soha', 'when'),\n",
       " ('when', 'they'),\n",
       " ('they', 'come'),\n",
       " ('come', 'back'),\n",
       " ('back', 'i'),\n",
       " ('i', 'need'),\n",
       " ('need', 'to'),\n",
       " ('to', 'start'),\n",
       " ('start', 'working'),\n",
       " ('working', 'on'),\n",
       " ('on', 'desigining'),\n",
       " ('desigining', 'my'),\n",
       " ('my', 'website'),\n",
       " ('website', 'and'),\n",
       " ('and', 'my'),\n",
       " ('my', 'new'),\n",
       " ('new', 'resume'),\n",
       " ('resume', 'other'),\n",
       " ('other', 'than'),\n",
       " ('than', 'that'),\n",
       " ('that', 'i'),\n",
       " ('i', 'need'),\n",
       " ('need', 'a'),\n",
       " ('a', 'shower'),\n",
       " ('shower', 'i'),\n",
       " ('i', 'am'),\n",
       " ('am', 'having'),\n",
       " ('having', 'another'),\n",
       " ('another', 'phone'),\n",
       " ('phone', 'interview'),\n",
       " ('interview', 'with'),\n",
       " ('with', 'the'),\n",
       " ('the', 'cia'),\n",
       " ('cia', 'on'),\n",
       " ('on', 'jan'),\n",
       " ('jan', '7'),\n",
       " ('7', 'at'),\n",
       " ('at', '8:30'),\n",
       " ('8:30', 'am'),\n",
       " ('am', 'i'),\n",
       " ('i', 'have'),\n",
       " ('have', 'been'),\n",
       " ('been', 'trying'),\n",
       " ('trying', 'to'),\n",
       " ('to', 'work'),\n",
       " ('work', 'out'),\n",
       " ('out', 'my'),\n",
       " ('my', 'upper'),\n",
       " ('upper', 'body'),\n",
       " ('body', 'and'),\n",
       " ('and', 'now'),\n",
       " ('now', 'my'),\n",
       " ('my', 'arms'),\n",
       " ('arms', 'hurt'),\n",
       " ('yesterday', 'was'),\n",
       " ('was', \"sarah's\"),\n",
       " (\"sarah's\", 'birthday'),\n",
       " ('birthday', 'mom'),\n",
       " ('mom', 'soha'),\n",
       " ('soha', 'sarah'),\n",
       " ('sarah', 'and'),\n",
       " ('and', 'i'),\n",
       " ('i', 'went'),\n",
       " ('went', 'shopping'),\n",
       " ('shopping', 'and'),\n",
       " ('and', 'we'),\n",
       " ('we', 'got'),\n",
       " ('got', 'a'),\n",
       " ('a', 'lot'),\n",
       " ('lot', 'of'),\n",
       " ('of', 'stuff'),\n",
       " ('stuff', 'we'),\n",
       " ('we', 'got'),\n",
       " ('got', '$50'),\n",
       " ('$50', 'worth'),\n",
       " ('worth', 'of'),\n",
       " ('of', 'school'),\n",
       " ('school', 'supplies'),\n",
       " ('supplies', 'and'),\n",
       " ('and', 'then'),\n",
       " ('then', 'we'),\n",
       " ('we', 'went'),\n",
       " ('went', 'to'),\n",
       " ('to', 'target'),\n",
       " ('target', 'and'),\n",
       " ('and', 'spend'),\n",
       " ('spend', 'another'),\n",
       " ('another', '$80'),\n",
       " ('$80', 'dollars'),\n",
       " ('dollars', 'i'),\n",
       " ('i', 'got'),\n",
       " ('got', 'underwear'),\n",
       " ('underwear', 'then'),\n",
       " ('then', 'we'),\n",
       " ('we', 'went'),\n",
       " ('went', 'to'),\n",
       " ('to', 'pavilions'),\n",
       " ('pavilions', 'and'),\n",
       " ('and', 'pizza'),\n",
       " ('pizza', 'hut'),\n",
       " ('hut', 'sarah'),\n",
       " ('sarah', 'got'),\n",
       " ('got', 'a'),\n",
       " ('a', 'cake'),\n",
       " ('cake', 'i'),\n",
       " ('i', 'got'),\n",
       " ('got', 'a'),\n",
       " ('a', 'lot'),\n",
       " ('lot', 'of'),\n",
       " ('of', 'work'),\n",
       " ('work', 'for'),\n",
       " ('for', 'askoski'),\n",
       " ('askoski', 'and'),\n",
       " ('and', 'while'),\n",
       " ('while', 'i'),\n",
       " ('i', 'enjoy'),\n",
       " ('enjoy', 'the'),\n",
       " ('the', 'work'),\n",
       " ('work', 'i'),\n",
       " ('i', 'should'),\n",
       " ('should', 'start'),\n",
       " ('start', 'working'),\n",
       " ('working', 'on'),\n",
       " ('on', 'other'),\n",
       " ('other', 'things'),\n",
       " ('things', 'as'),\n",
       " ('as', 'well'),\n",
       " ('well', 'i'),\n",
       " ('i', 'go'),\n",
       " ('go', 'back'),\n",
       " ('back', 'very'),\n",
       " ('very', 'soon'),\n",
       " ('soon', 'and'),\n",
       " ('and', 'i'),\n",
       " ('i', 'need'),\n",
       " ('need', 'to'),\n",
       " ('to', 'study'),\n",
       " ('study', 'more'),\n",
       " ('more', 'probability'),\n",
       " ('probability', 'tomorrow'),\n",
       " ('tomorrow', 'i'),\n",
       " ('i', 'have'),\n",
       " ('have', 'to'),\n",
       " ('to', 'finalize'),\n",
       " ('finalize', 'my'),\n",
       " ('my', 'courses'),\n",
       " ('courses', 'for'),\n",
       " ('for', 'fall'),\n",
       " ('fall', 'nader'),\n",
       " ('nader', 'is'),\n",
       " ('is', 'coming'),\n",
       " ('coming', 'back'),\n",
       " ('back', 'on'),\n",
       " ('on', 'the'),\n",
       " ('the', '7th'),\n",
       " ('7th', 'i'),\n",
       " ('i', 'need'),\n",
       " ('need', 'to'),\n",
       " ('to', 'also'),\n",
       " ('also', 'start'),\n",
       " ('start', 'working'),\n",
       " ('working', 'out'),\n",
       " ('out', 'my'),\n",
       " ('my', 'upper'),\n",
       " ('upper', 'body'),\n",
       " ('body', 'i'),\n",
       " ('i', \"don't\"),\n",
       " (\"don't\", 'really'),\n",
       " ('really', 'get'),\n",
       " ('get', 'around'),\n",
       " ('around', 'to'),\n",
       " ('to', 'doing'),\n",
       " ('doing', 'that'),\n",
       " ('that', 'i'),\n",
       " ('i', 'also'),\n",
       " ('also', 'need'),\n",
       " ('need', 'to'),\n",
       " ('to', 'get'),\n",
       " ('get', 'my'),\n",
       " ('my', 'stuff'),\n",
       " ('stuff', 'together'),\n",
       " ('together', 'when'),\n",
       " ('when', 'i'),\n",
       " ('i', 'head'),\n",
       " ('head', 'back'),\n",
       " ('back', 'to'),\n",
       " ('to', 'berkeley'),\n",
       " ('berkeley', 'i'),\n",
       " ('i', 'already'),\n",
       " ('already', 'got'),\n",
       " ('got', 'my'),\n",
       " ('my', 'plane'),\n",
       " ('plane', 'ticket'),\n",
       " ('ticket', 'i'),\n",
       " ('i', 'tried'),\n",
       " ('tried', 'drawing'),\n",
       " ('drawing', 'a'),\n",
       " ('a', 'while'),\n",
       " ('while', 'ago'),\n",
       " ('ago', 'and'),\n",
       " ('and', 'i'),\n",
       " ('i', 'hope'),\n",
       " ('hope', 'to'),\n",
       " ('to', 'restart'),\n",
       " ('restart', 'it'),\n",
       " ('it', 'but'),\n",
       " ('but', 'that'),\n",
       " ('that', 'is'),\n",
       " ('is', 'pretty'),\n",
       " ('pretty', 'low'),\n",
       " ('low', 'priority'),\n",
       " ('priority', 'there'),\n",
       " ('there', 'is'),\n",
       " ('is', 'so'),\n",
       " ('so', 'much'),\n",
       " ('much', 'to'),\n",
       " ('to', 'do'),\n",
       " ('do', 'and'),\n",
       " ('and', 'i'),\n",
       " ('i', \"don't\"),\n",
       " (\"don't\", 'really'),\n",
       " ('really', 'want'),\n",
       " ('want', 'to'),\n",
       " ('to', 'do'),\n",
       " ('do', 'any'),\n",
       " ('any', 'of'),\n",
       " ('of', 'it'),\n",
       " ('so', 'i'),\n",
       " ('i', 'realized'),\n",
       " ('realized', 'that'),\n",
       " ('that', 'i'),\n",
       " ('i', 'am'),\n",
       " ('am', 'bad'),\n",
       " ('bad', 'with'),\n",
       " ('with', 'titles'),\n",
       " ('titles', 'and'),\n",
       " ('and', 'yeah'),\n",
       " ('yeah', 'that'),\n",
       " ('that', 'might'),\n",
       " ('might', 'become'),\n",
       " ('become', 'a'),\n",
       " ('a', 'problem'),\n",
       " ('problem', 'i'),\n",
       " ('i', 'wasted'),\n",
       " ('wasted', 'most'),\n",
       " ('most', 'of'),\n",
       " ('of', 'the'),\n",
       " ('the', 'day'),\n",
       " ('day', 'away'),\n",
       " ('away', 'watching'),\n",
       " ('watching', 'youtube'),\n",
       " ('youtube', 'and'),\n",
       " ('and', 'anime'),\n",
       " ('anime', 'although'),\n",
       " ('although', 'i'),\n",
       " ('i', 'did'),\n",
       " ('did', 'do'),\n",
       " ('do', 'some'),\n",
       " ('some', 'tutorials'),\n",
       " ('tutorials', 'in'),\n",
       " ('in', 'r'),\n",
       " ('r', 'and'),\n",
       " ('and', 'did'),\n",
       " ('did', 'one'),\n",
       " ('one', 'comp'),\n",
       " ('comp', 'sci'),\n",
       " ('sci', 'problem'),\n",
       " ('problem', 'i'),\n",
       " ('i', 'should'),\n",
       " ('should', 'get'),\n",
       " ('get', 'going'),\n",
       " ('going', 'on'),\n",
       " ('on', 'that'),\n",
       " ('that', 'i'),\n",
       " ('i', 'also'),\n",
       " ('also', 'got'),\n",
       " ('got', 'my'),\n",
       " ('my', 'transcript'),\n",
       " ('transcript', 'and'),\n",
       " ('and', 'sent'),\n",
       " ('sent', 'it'),\n",
       " ('it', 'out'),\n",
       " ('out', 'to'),\n",
       " ('to', 'some'),\n",
       " ('some', 'companies'),\n",
       " ('companies', \"soha's\"),\n",
       " (\"soha's\", 'friend'),\n",
       " ('friend', 'came'),\n",
       " ('came', 'over'),\n",
       " ('over', 'today'),\n",
       " ('today', 'yeah'),\n",
       " ('yeah', 'i'),\n",
       " ('i', 'got'),\n",
       " ('got', 'very'),\n",
       " ('very', 'little'),\n",
       " ('little', 'done'),\n",
       " ('done', 'mom'),\n",
       " ('mom', 'made'),\n",
       " ('made', 'an'),\n",
       " ('an', 'appointment'),\n",
       " ('appointment', 'with'),\n",
       " ('with', 'the'),\n",
       " ('the', 'dentist'),\n",
       " ('dentist', 'for'),\n",
       " ('for', 'me'),\n",
       " ('me', 'i'),\n",
       " ('i', 'am'),\n",
       " ('am', 'not'),\n",
       " ('not', 'looking'),\n",
       " ('looking', 'forward'),\n",
       " ('forward', 'to'),\n",
       " ('to', 'it'),\n",
       " ('it', 'i'),\n",
       " ('i', 'have'),\n",
       " ('have', 'been'),\n",
       " ('been', 'flossing'),\n",
       " ('flossing', 'and'),\n",
       " ('and', 'brushing'),\n",
       " ('brushing', 'though'),\n",
       " ('though', 'shoot'),\n",
       " ('shoot', 'i'),\n",
       " ('i', 'forgot'),\n",
       " ('forgot', 'to'),\n",
       " ('to', 'brush'),\n",
       " ('brush', 'my'),\n",
       " ('my', 'tongue'),\n",
       " ('tongue', 'so'),\n",
       " ('so', 'my'),\n",
       " ('my', 'plan'),\n",
       " ('plan', 'of'),\n",
       " ('of', 'stuff'),\n",
       " ('stuff', 'to'),\n",
       " ('to', 'do'),\n",
       " ('do', 'is'),\n",
       " ('is', 'learn'),\n",
       " ('learn', 'r'),\n",
       " ('r', 'do'),\n",
       " ('do', 'some'),\n",
       " ('some', 'kraggle'),\n",
       " ('kraggle', 'compeitions'),\n",
       " ('compeitions', 'finish'),\n",
       " ('finish', 'python'),\n",
       " ('python', 'and'),\n",
       " ('and', 'do'),\n",
       " ('do', 'some'),\n",
       " ('some', 'web'),\n",
       " ('web', 'dev'),\n",
       " ('dev', 'for'),\n",
       " ('for', 'my'),\n",
       " ('my', 'site'),\n",
       " ('site', 'this'),\n",
       " ('this', 'does'),\n",
       " ('does', 'not'),\n",
       " ('not', 'seem'),\n",
       " ('seem', 'like'),\n",
       " ('like', 'a'),\n",
       " ('a', 'lot'),\n",
       " ('lot', 'but'),\n",
       " ('but', 'me'),\n",
       " ('me', 'being'),\n",
       " ('being', 'lazy'),\n",
       " ('lazy', 'prevents'),\n",
       " ('prevents', 'me'),\n",
       " ('me', 'from'),\n",
       " ('from', 'doing'),\n",
       " ('doing', 'anything'),\n",
       " ('anything', 'then'),\n",
       " ('then', 'again'),\n",
       " ('again', 'i'),\n",
       " ('i', 'am'),\n",
       " ('am', 'a'),\n",
       " ('a', 'morning'),\n",
       " ('morning', 'person'),\n",
       " ('person', 'so'),\n",
       " ('so', 'maybe'),\n",
       " ('maybe', 'i'),\n",
       " ('i', 'just'),\n",
       " ('just', 'cannot'),\n",
       " ('cannot', 'do'),\n",
       " ('do', 'anything'),\n",
       " ('anything', 'at'),\n",
       " ('at', 'night'),\n",
       " ('night', 'i'),\n",
       " ('i', 'read'),\n",
       " ('read', 'on'),\n",
       " ('on', 'reddit'),\n",
       " ('reddit', 'that'),\n",
       " ('that', 'i'),\n",
       " ('i', 'should'),\n",
       " ('should', 'say'),\n",
       " ('say', 'i'),\n",
       " ('i', 'am'),\n",
       " ('am', 'demotivated'),\n",
       " ('demotivated', 'not'),\n",
       " ('not', 'lazy'),\n",
       " ('lazy', 'but'),\n",
       " ('but', 'to'),\n",
       " ('to', 'me'),\n",
       " ('me', 'they'),\n",
       " ('they', 'are'),\n",
       " ('are', 'the'),\n",
       " ('the', 'same'),\n",
       " ('same', 'thing'),\n",
       " ('thing', 'i'),\n",
       " ('i', 'have'),\n",
       " ('have', 'no'),\n",
       " ('no', 'want'),\n",
       " ('want', 'to'),\n",
       " ('to', 'work'),\n",
       " ('work', 'but'),\n",
       " ('but', 'i'),\n",
       " ('i', 'have'),\n",
       " ('have', 'to'),\n",
       " ('to', 'do'),\n",
       " ('do', 'it'),\n",
       " ('it', 'ugh'),\n",
       " ('ugh', 'kill'),\n",
       " ('kill', 'me'),\n",
       " ('me', 'is'),\n",
       " ('is', 'this'),\n",
       " ('this', 'really'),\n",
       " ('really', 'all'),\n",
       " ('all', 'i'),\n",
       " ('i', 'have'),\n",
       " ('have', 'to'),\n",
       " ('to', 'say'),\n",
       " ('say', 'man'),\n",
       " ('man', 'these'),\n",
       " ('these', 'are'),\n",
       " ('are', 'getting'),\n",
       " ('getting', 'short'),\n",
       " ('short', 'not'),\n",
       " ('not', 'much'),\n",
       " ('much', 'is'),\n",
       " ('is', 'going'),\n",
       " ('going', 'on'),\n",
       " ('on', 'my'),\n",
       " ('my', 'friends'),\n",
       " ('friends', 'did'),\n",
       " ('did', 'something'),\n",
       " ('something', 'today'),\n",
       " ('today', 'but'),\n",
       " ('but', 'i'),\n",
       " ('i', 'did'),\n",
       " ('did', 'not'),\n",
       " ('not', 'join'),\n",
       " ('join', 'well'),\n",
       " ('well', 'i'),\n",
       " ('i', 'guess'),\n",
       " ('guess', 'this'),\n",
       " ('this', 'ends'),\n",
       " ('ends', 'it'),\n",
       " ('so', 'my'),\n",
       " ('my', 'annoying'),\n",
       " ('annoying', 'sister'),\n",
       " ('sister', 'is'),\n",
       " ('is', 'right'),\n",
       " ('right', 'next'),\n",
       " ('next', 'to'),\n",
       " ('to', 'me'),\n",
       " ('me', 'just'),\n",
       " ('just', 'guess'),\n",
       " ('guess', 'which'),\n",
       " ('which', 'one'),\n",
       " ('one', 'it'),\n",
       " ('it', 'is'),\n",
       " ('is', 'my'),\n",
       " ('my', 'grades'),\n",
       " ('grades', 'have'),\n",
       " ('have', 'not'),\n",
       " ('not', 'been'),\n",
       " ('been', 'released'),\n",
       " ('released', 'yet'),\n",
       " ('yet', 'so'),\n",
       " ('so', 'i'),\n",
       " ('i', 'am'),\n",
       " ('am', 'kinda'),\n",
       " ('kinda', 'worried'),\n",
       " ('worried', 'i'),\n",
       " ('i', 'got'),\n",
       " ('got', 'one'),\n",
       " ('one', 'cavity'),\n",
       " ('cavity', 'and'),\n",
       " ('and', 'mom'),\n",
       " ('mom', 'is'),\n",
       " ('is', 'really'),\n",
       " ('really', 'upset'),\n",
       " ('upset', 'because'),\n",
       " ('because', 'i'),\n",
       " ('i', 'will'),\n",
       " ('will', 'need'),\n",
       " ('need', 'caps'),\n",
       " ('caps', 'on'),\n",
       " ('on', 'them'),\n",
       " ('them', 'i'),\n",
       " ('i', 'just'),\n",
       " ('just', \"don't\"),\n",
       " (\"don't\", 'get'),\n",
       " ('get', 'it'),\n",
       " ('it', 'because'),\n",
       " ('because', 'i'),\n",
       " ('i', 'brushed'),\n",
       " ('brushed', 'and'),\n",
       " ('and', 'flossed'),\n",
       " ('flossed', 'everyday'),\n",
       " ('everyday', 'i'),\n",
       " ('i', 'spent'),\n",
       " ('spent', 'yesterday'),\n",
       " ('yesterday', 'playing'),\n",
       " ('playing', 'dnd'),\n",
       " ('dnd', 'with'),\n",
       " ('with', 'my'),\n",
       " ('my', 'friends'),\n",
       " ('friends', 'which'),\n",
       " ('which', 'was'),\n",
       " ('was', 'pretty'),\n",
       " ('pretty', 'fun'),\n",
       " ('fun', 'problem'),\n",
       " ('problem', 'is'),\n",
       " ('is', 'that'),\n",
       " ('that', 'ali'),\n",
       " ('ali', 'keeps'),\n",
       " ('keeps', 'messing'),\n",
       " ('messing', 'up'),\n",
       " ('up', 'everything'),\n",
       " ('everything', 'i'),\n",
       " ('i', 'am'),\n",
       " ('am', 'going'),\n",
       " ('going', 'to'),\n",
       " ('to', 'have'),\n",
       " ('have', 'to'),\n",
       " ('to', 'kill'),\n",
       " ('kill', 'him'),\n",
       " ('him', 'artin'),\n",
       " ('artin', 'is'),\n",
       " ('is', 'playing'),\n",
       " ('playing', 'a'),\n",
       " ('a', 'plague'),\n",
       " ('plague', 'doctor'),\n",
       " ('doctor', 'which'),\n",
       " ('which', 'is'),\n",
       " ('is', 'kinda'),\n",
       " ('kinda', 'scary'),\n",
       " ('scary', 'but'),\n",
       " ('but', 'i'),\n",
       " ('i', 'believe'),\n",
       " ('believe', 'he'),\n",
       " ('he', 'is'),\n",
       " ('is', 'good'),\n",
       " ('good', 'i'),\n",
       " ('i', 'need'),\n",
       " ('need', 'to'),\n",
       " ('to', 'refocus'),\n",
       " ('refocus', 'on'),\n",
       " ('on', 'computer'),\n",
       " ('computer', 'science'),\n",
       " ('science', 'and'),\n",
       " ('and', 'studying'),\n",
       " ('studying', 'also'),\n",
       " ('also', 'running'),\n",
       " ('running', 'i'),\n",
       " ('i', 'need'),\n",
       " ('need', 'to'),\n",
       " ('to', 'start'),\n",
       " ('start', 'running'),\n",
       " ('running', 'or'),\n",
       " ('or', \"i'll\"),\n",
       " (\"i'll\", 'get'),\n",
       " ('get', 'fat'),\n",
       " ('fat', 'i'),\n",
       " ('i', 'made'),\n",
       " ('made', 'red'),\n",
       " ('red', 'beans'),\n",
       " ('beans', 'today'),\n",
       " ('today', 'and'),\n",
       " ('and', 'that'),\n",
       " ('that', 'was'),\n",
       " ('was', 'really'),\n",
       " ('really', 'good'),\n",
       " ('good', 'i'),\n",
       " ('i', 'have'),\n",
       " ('have', 'been'),\n",
       " ('been', 'sleeping'),\n",
       " ('sleeping', 'a'),\n",
       " ('a', 'lot'),\n",
       " ('lot', 'which'),\n",
       " ('which', 'is'),\n",
       " ('is', 'good'),\n",
       " ('good', 'in'),\n",
       " ('in', 'one'),\n",
       " ('one', 'way'),\n",
       " ('way', 'but'),\n",
       " ('but', 'then'),\n",
       " ('then', 'i'),\n",
       " ('i', 'lose'),\n",
       " ('lose', 'time'),\n",
       " ('time', 'to'),\n",
       " ('to', 'actually'),\n",
       " ('actually', 'work'),\n",
       " ('work', 'although'),\n",
       " ('although', 'when'),\n",
       " ('when', 'i'),\n",
       " ('i', 'am'),\n",
       " ('am', 'awake'),\n",
       " ('awake', 'i'),\n",
       " ('i', \"don't\"),\n",
       " (\"don't\", 'really'),\n",
       " ('really', 'work'),\n",
       " ('there', 'is'),\n",
       " ('is', 'a'),\n",
       " ('a', 'lot'),\n",
       " ('lot', 'going'),\n",
       " ('going', 'on'),\n",
       " ('on', 'but'),\n",
       " ('but', 'they'),\n",
       " ('they', 'all'),\n",
       " ('all', 'happen'),\n",
       " ('happen', 'later'),\n",
       " ('later', 'so'),\n",
       " ('so', 'right'),\n",
       " ('right', 'now'),\n",
       " ('now', 'i'),\n",
       " ('i', 'am'),\n",
       " ('am', 'pretty'),\n",
       " ('pretty', 'free'),\n",
       " ('free', 'i'),\n",
       " ('i', 'have'),\n",
       " ('have', 'been'),\n",
       " ('been', 'staring'),\n",
       " ('staring', 'at'),\n",
       " ('at', 'the'),\n",
       " ('the', 'computer'),\n",
       " ('computer', 'for'),\n",
       " ('for', 'too'),\n",
       " ('too', 'long'),\n",
       " ...]"
      ]
     },
     "execution_count": 150,
     "metadata": {},
     "output_type": "execute_result"
    }
   ],
   "source": []
  },
  {
   "cell_type": "code",
   "execution_count": 187,
   "metadata": {},
   "outputs": [],
   "source": [
    "data_train, data_test, y_train, y_test = train_test_split(bigram_df['content'], bigram_df['goodMood'], \n",
    "                                                    test_size=0.2, random_state = 42)"
   ]
  },
  {
   "cell_type": "code",
   "execution_count": 188,
   "metadata": {},
   "outputs": [],
   "source": [
    "X_train = pd.DataFrame({word: data_train.str.count(re.escape(word)) for word in bigrams_train})\n",
    "X_test = pd.DataFrame({word: data_test.str.count(re.escape(word)) for word in bigrams_train})"
   ]
  },
  {
   "cell_type": "code",
   "execution_count": 189,
   "metadata": {},
   "outputs": [
    {
     "data": {
      "text/plain": [
       "(0.6111111111111112, 0.6153846153846154, 0.47058823529411764)"
      ]
     },
     "execution_count": 189,
     "metadata": {},
     "output_type": "execute_result"
    }
   ],
   "source": [
    "bigram_logistic_model = LogisticRegression(solver='lbfgs')\n",
    "bigram_logistic_model.fit(X_train, y_train)\n",
    "\n",
    "y_hat = bigram_logistic_model.predict(X_test)\n",
    "acc_pre_rec(y_test, y_hat)"
   ]
  },
  {
   "cell_type": "markdown",
   "metadata": {},
   "source": [
    "### Trigram"
   ]
  },
  {
   "cell_type": "code",
   "execution_count": 195,
   "metadata": {},
   "outputs": [],
   "source": [
    "trigram_df = df.copy()"
   ]
  },
  {
   "cell_type": "code",
   "execution_count": 196,
   "metadata": {},
   "outputs": [],
   "source": [
    "trigrams_train = [list(nltk.trigrams(nltk.word_tokenize(s))) for s in trigram_df['content']]\n",
    "trigrams_train = [[a + ' ' + b + 'c' for a, b, c in l] for l in trigrams_train]\n",
    "_trigrams_train = np.unique(np.array(trigrams_train))\n",
    "trigrams_train = []\n",
    "for trigrams in _trigrams_train:\n",
    "            trigrams_train.extend(trigrams)"
   ]
  },
  {
   "cell_type": "code",
   "execution_count": 197,
   "metadata": {},
   "outputs": [],
   "source": [
    "data_train, data_test, y_train, y_test = train_test_split(bigram_df['content'], bigram_df['goodMood'], \n",
    "                                                    test_size=0.2, random_state = 42)"
   ]
  },
  {
   "cell_type": "code",
   "execution_count": 198,
   "metadata": {},
   "outputs": [],
   "source": [
    "X_train = pd.DataFrame({word: data_train.str.count(re.escape(word)) for word in trigrams_train})\n",
    "X_test = pd.DataFrame({word: data_test.str.count(re.escape(word)) for word in trigrams_train})"
   ]
  },
  {
   "cell_type": "code",
   "execution_count": 200,
   "metadata": {},
   "outputs": [
    {
     "data": {
      "text/plain": [
       "(0.5555555555555556, 1.0, 0.058823529411764705)"
      ]
     },
     "execution_count": 200,
     "metadata": {},
     "output_type": "execute_result"
    }
   ],
   "source": [
    "trigram_logistic_model = LogisticRegression(solver='lbfgs')\n",
    "trigram_logistic_model.fit(X_train, y_train)\n",
    "\n",
    "y_hat = trigram_logistic_model.predict(X_test)\n",
    "acc_pre_rec(y_test, y_hat)"
   ]
  },
  {
   "cell_type": "markdown",
   "metadata": {},
   "source": [
    "# Word2Vec"
   ]
  },
  {
   "cell_type": "code",
   "execution_count": 239,
   "metadata": {},
   "outputs": [
    {
     "name": "stderr",
     "output_type": "stream",
     "text": [
      "Using TensorFlow backend.\n"
     ]
    }
   ],
   "source": [
    "import keras as K\n",
    "from tensorflow.python.keras.preprocessing.text import Tokenizer\n",
    "from tensorflow.python.keras.preprocessing.sequence import pad_sequences\n",
    "\n",
    "w2v_df = df.copy()"
   ]
  },
  {
   "cell_type": "code",
   "execution_count": 243,
   "metadata": {},
   "outputs": [],
   "source": [
    "tokenizer_obj = Tokenizer()\n",
    "tokenizer_obj.fit_on_texts(w2v_df['content'])\n",
    "\n",
    "max_length = max([len(s.split()) for s in w2v_df['content']])\n",
    "vocab_size = len(tokenizer_obj.word_index) + 1"
   ]
  },
  {
   "cell_type": "code",
   "execution_count": 245,
   "metadata": {},
   "outputs": [],
   "source": [
    "data_train, data_test, y_train, y_test = train_test_split(w2v_df['content'], w2v_df['goodMood'], \n",
    "                                                    test_size=0.2, random_state = 42)\n",
    "\n",
    "X_train_tokens = tokenizer_obj.texts_to_sequences(data_train)\n",
    "X_test_tokens = tokenizer_obj.texts_to_sequences(data_test)\n",
    "\n",
    "X_train_pad = pad_sequences(X_train_tokens, maxlen=max_length, padding='post')\n",
    "X_test_pad = pad_sequences(X_test_tokens, maxlen=max_length, padding='post')"
   ]
  },
  {
   "cell_type": "code",
   "execution_count": 246,
   "metadata": {},
   "outputs": [],
   "source": [
    "EMBEDDING_DIM = 100"
   ]
  },
  {
   "cell_type": "code",
   "execution_count": 260,
   "metadata": {},
   "outputs": [
    {
     "name": "stdout",
     "output_type": "stream",
     "text": [
      "Model: \"sequential_8\"\n",
      "_________________________________________________________________\n",
      "Layer (type)                 Output Shape              Param #   \n",
      "=================================================================\n",
      "embedding_7 (Embedding)      (None, 675, 100)          340200    \n",
      "_________________________________________________________________\n",
      "gru_6 (GRU)                  (None, 32)                12768     \n",
      "_________________________________________________________________\n",
      "dense_6 (Dense)              (None, 1)                 33        \n",
      "=================================================================\n",
      "Total params: 353,001\n",
      "Trainable params: 353,001\n",
      "Non-trainable params: 0\n",
      "_________________________________________________________________\n"
     ]
    }
   ],
   "source": [
    "w2v_model = K.models.Sequential()\n",
    "w2v_model.add(K.layers.embeddings.Embedding(vocab_size, EMBEDDING_DIM, input_length=max_length))\n",
    "w2v_model.add(K.layers.GRU(units=32, dropout=0.2, recurrent_dropout=0.2))\n",
    "w2v_model.add(K.layers.Dense(1, activation='sigmoid'))\n",
    "\n",
    "w2v_model.compile(loss='binary_crossentropy', optimizer='adam', metrics=['accuracy'])\n",
    "w2v_model.summary()"
   ]
  },
  {
   "cell_type": "code",
   "execution_count": 265,
   "metadata": {},
   "outputs": [
    {
     "name": "stdout",
     "output_type": "stream",
     "text": [
      "Train on 141 samples, validate on 36 samples\n",
      "Epoch 1/10\n",
      " - 1s - loss: 0.6855 - accuracy: 0.5745 - val_loss: 0.6982 - val_accuracy: 0.5278\n",
      "Epoch 2/10\n",
      " - 1s - loss: 0.6836 - accuracy: 0.5745 - val_loss: 0.6962 - val_accuracy: 0.5278\n",
      "Epoch 3/10\n",
      " - 1s - loss: 0.6826 - accuracy: 0.5745 - val_loss: 0.6951 - val_accuracy: 0.5278\n",
      "Epoch 4/10\n",
      " - 1s - loss: 0.6810 - accuracy: 0.5745 - val_loss: 0.6948 - val_accuracy: 0.5278\n",
      "Epoch 5/10\n",
      " - 1s - loss: 0.6840 - accuracy: 0.5745 - val_loss: 0.6946 - val_accuracy: 0.5278\n",
      "Epoch 6/10\n",
      " - 1s - loss: 0.6792 - accuracy: 0.5745 - val_loss: 0.6945 - val_accuracy: 0.5278\n",
      "Epoch 7/10\n",
      " - 1s - loss: 0.6826 - accuracy: 0.5745 - val_loss: 0.6949 - val_accuracy: 0.5278\n",
      "Epoch 8/10\n",
      " - 1s - loss: 0.6831 - accuracy: 0.5745 - val_loss: 0.6950 - val_accuracy: 0.5278\n",
      "Epoch 9/10\n",
      " - 1s - loss: 0.6794 - accuracy: 0.5745 - val_loss: 0.6951 - val_accuracy: 0.5278\n",
      "Epoch 10/10\n",
      " - 1s - loss: 0.6866 - accuracy: 0.5745 - val_loss: 0.6943 - val_accuracy: 0.5278\n"
     ]
    },
    {
     "data": {
      "text/plain": [
       "<keras.callbacks.callbacks.History at 0x7f7e771bacf8>"
      ]
     },
     "execution_count": 265,
     "metadata": {},
     "output_type": "execute_result"
    }
   ],
   "source": [
    "w2v_model.fit(X_train_pad, y_train, batch_size=32, epochs=10, validation_data=(X_test_pad, y_test), verbose=2)"
   ]
  },
  {
   "cell_type": "code",
   "execution_count": 310,
   "metadata": {},
   "outputs": [
    {
     "ename": "AttributeError",
     "evalue": "(\"module 'bert' has no attribute 'run_classifier'\", 'occurred at index 0')",
     "output_type": "error",
     "traceback": [
      "\u001b[0;31m---------------------------------------------------------------------------\u001b[0m",
      "\u001b[0;31mAttributeError\u001b[0m                            Traceback (most recent call last)",
      "\u001b[0;32m<ipython-input-310-d5e2124006c8>\u001b[0m in \u001b[0;36m<module>\u001b[0;34m\u001b[0m\n\u001b[1;32m      3\u001b[0m                                                                    \u001b[0mtext_a\u001b[0m \u001b[0;34m=\u001b[0m \u001b[0mx\u001b[0m\u001b[0;34m[\u001b[0m\u001b[0mDATA_COLUMN\u001b[0m\u001b[0;34m]\u001b[0m\u001b[0;34m,\u001b[0m\u001b[0;34m\u001b[0m\u001b[0;34m\u001b[0m\u001b[0m\n\u001b[1;32m      4\u001b[0m                                                                    \u001b[0mtext_b\u001b[0m \u001b[0;34m=\u001b[0m \u001b[0;32mNone\u001b[0m\u001b[0;34m,\u001b[0m\u001b[0;34m\u001b[0m\u001b[0;34m\u001b[0m\u001b[0m\n\u001b[0;32m----> 5\u001b[0;31m                                                                    label = x[LABEL_COLUMN]), axis = 1)\n\u001b[0m\u001b[1;32m      6\u001b[0m \u001b[0;34m\u001b[0m\u001b[0m\n\u001b[1;32m      7\u001b[0m test_InputExamples = test.apply(lambda x: bert.run_classifier.InputExample(guid=None, \n",
      "\u001b[0;32m~/miniconda3/lib/python3.7/site-packages/pandas/core/frame.py\u001b[0m in \u001b[0;36mapply\u001b[0;34m(self, func, axis, broadcast, raw, reduce, result_type, args, **kwds)\u001b[0m\n\u001b[1;32m   6911\u001b[0m             \u001b[0mkwds\u001b[0m\u001b[0;34m=\u001b[0m\u001b[0mkwds\u001b[0m\u001b[0;34m,\u001b[0m\u001b[0;34m\u001b[0m\u001b[0;34m\u001b[0m\u001b[0m\n\u001b[1;32m   6912\u001b[0m         )\n\u001b[0;32m-> 6913\u001b[0;31m         \u001b[0;32mreturn\u001b[0m \u001b[0mop\u001b[0m\u001b[0;34m.\u001b[0m\u001b[0mget_result\u001b[0m\u001b[0;34m(\u001b[0m\u001b[0;34m)\u001b[0m\u001b[0;34m\u001b[0m\u001b[0;34m\u001b[0m\u001b[0m\n\u001b[0m\u001b[1;32m   6914\u001b[0m \u001b[0;34m\u001b[0m\u001b[0m\n\u001b[1;32m   6915\u001b[0m     \u001b[0;32mdef\u001b[0m \u001b[0mapplymap\u001b[0m\u001b[0;34m(\u001b[0m\u001b[0mself\u001b[0m\u001b[0;34m,\u001b[0m \u001b[0mfunc\u001b[0m\u001b[0;34m)\u001b[0m\u001b[0;34m:\u001b[0m\u001b[0;34m\u001b[0m\u001b[0;34m\u001b[0m\u001b[0m\n",
      "\u001b[0;32m~/miniconda3/lib/python3.7/site-packages/pandas/core/apply.py\u001b[0m in \u001b[0;36mget_result\u001b[0;34m(self)\u001b[0m\n\u001b[1;32m    184\u001b[0m             \u001b[0;32mreturn\u001b[0m \u001b[0mself\u001b[0m\u001b[0;34m.\u001b[0m\u001b[0mapply_raw\u001b[0m\u001b[0;34m(\u001b[0m\u001b[0;34m)\u001b[0m\u001b[0;34m\u001b[0m\u001b[0;34m\u001b[0m\u001b[0m\n\u001b[1;32m    185\u001b[0m \u001b[0;34m\u001b[0m\u001b[0m\n\u001b[0;32m--> 186\u001b[0;31m         \u001b[0;32mreturn\u001b[0m \u001b[0mself\u001b[0m\u001b[0;34m.\u001b[0m\u001b[0mapply_standard\u001b[0m\u001b[0;34m(\u001b[0m\u001b[0;34m)\u001b[0m\u001b[0;34m\u001b[0m\u001b[0;34m\u001b[0m\u001b[0m\n\u001b[0m\u001b[1;32m    187\u001b[0m \u001b[0;34m\u001b[0m\u001b[0m\n\u001b[1;32m    188\u001b[0m     \u001b[0;32mdef\u001b[0m \u001b[0mapply_empty_result\u001b[0m\u001b[0;34m(\u001b[0m\u001b[0mself\u001b[0m\u001b[0;34m)\u001b[0m\u001b[0;34m:\u001b[0m\u001b[0;34m\u001b[0m\u001b[0;34m\u001b[0m\u001b[0m\n",
      "\u001b[0;32m~/miniconda3/lib/python3.7/site-packages/pandas/core/apply.py\u001b[0m in \u001b[0;36mapply_standard\u001b[0;34m(self)\u001b[0m\n\u001b[1;32m    290\u001b[0m \u001b[0;34m\u001b[0m\u001b[0m\n\u001b[1;32m    291\u001b[0m         \u001b[0;31m# compute the result using the series generator\u001b[0m\u001b[0;34m\u001b[0m\u001b[0;34m\u001b[0m\u001b[0;34m\u001b[0m\u001b[0m\n\u001b[0;32m--> 292\u001b[0;31m         \u001b[0mself\u001b[0m\u001b[0;34m.\u001b[0m\u001b[0mapply_series_generator\u001b[0m\u001b[0;34m(\u001b[0m\u001b[0;34m)\u001b[0m\u001b[0;34m\u001b[0m\u001b[0;34m\u001b[0m\u001b[0m\n\u001b[0m\u001b[1;32m    293\u001b[0m \u001b[0;34m\u001b[0m\u001b[0m\n\u001b[1;32m    294\u001b[0m         \u001b[0;31m# wrap results\u001b[0m\u001b[0;34m\u001b[0m\u001b[0;34m\u001b[0m\u001b[0;34m\u001b[0m\u001b[0m\n",
      "\u001b[0;32m~/miniconda3/lib/python3.7/site-packages/pandas/core/apply.py\u001b[0m in \u001b[0;36mapply_series_generator\u001b[0;34m(self)\u001b[0m\n\u001b[1;32m    319\u001b[0m             \u001b[0;32mtry\u001b[0m\u001b[0;34m:\u001b[0m\u001b[0;34m\u001b[0m\u001b[0;34m\u001b[0m\u001b[0m\n\u001b[1;32m    320\u001b[0m                 \u001b[0;32mfor\u001b[0m \u001b[0mi\u001b[0m\u001b[0;34m,\u001b[0m \u001b[0mv\u001b[0m \u001b[0;32min\u001b[0m \u001b[0menumerate\u001b[0m\u001b[0;34m(\u001b[0m\u001b[0mseries_gen\u001b[0m\u001b[0;34m)\u001b[0m\u001b[0;34m:\u001b[0m\u001b[0;34m\u001b[0m\u001b[0;34m\u001b[0m\u001b[0m\n\u001b[0;32m--> 321\u001b[0;31m                     \u001b[0mresults\u001b[0m\u001b[0;34m[\u001b[0m\u001b[0mi\u001b[0m\u001b[0;34m]\u001b[0m \u001b[0;34m=\u001b[0m \u001b[0mself\u001b[0m\u001b[0;34m.\u001b[0m\u001b[0mf\u001b[0m\u001b[0;34m(\u001b[0m\u001b[0mv\u001b[0m\u001b[0;34m)\u001b[0m\u001b[0;34m\u001b[0m\u001b[0;34m\u001b[0m\u001b[0m\n\u001b[0m\u001b[1;32m    322\u001b[0m                     \u001b[0mkeys\u001b[0m\u001b[0;34m.\u001b[0m\u001b[0mappend\u001b[0m\u001b[0;34m(\u001b[0m\u001b[0mv\u001b[0m\u001b[0;34m.\u001b[0m\u001b[0mname\u001b[0m\u001b[0;34m)\u001b[0m\u001b[0;34m\u001b[0m\u001b[0;34m\u001b[0m\u001b[0m\n\u001b[1;32m    323\u001b[0m             \u001b[0;32mexcept\u001b[0m \u001b[0mException\u001b[0m \u001b[0;32mas\u001b[0m \u001b[0me\u001b[0m\u001b[0;34m:\u001b[0m\u001b[0;34m\u001b[0m\u001b[0;34m\u001b[0m\u001b[0m\n",
      "\u001b[0;32m<ipython-input-310-d5e2124006c8>\u001b[0m in \u001b[0;36m<lambda>\u001b[0;34m(x)\u001b[0m\n\u001b[1;32m      1\u001b[0m \u001b[0;31m# Use the InputExample class from BERT's run_classifier code to create examples from the data\u001b[0m\u001b[0;34m\u001b[0m\u001b[0;34m\u001b[0m\u001b[0;34m\u001b[0m\u001b[0m\n\u001b[0;32m----> 2\u001b[0;31m train_InputExamples = train.apply(lambda x: bert.run_classifier.InputExample(guid=None, # Globally unique ID for bookkeeping, unused in this example\n\u001b[0m\u001b[1;32m      3\u001b[0m                                                                    \u001b[0mtext_a\u001b[0m \u001b[0;34m=\u001b[0m \u001b[0mx\u001b[0m\u001b[0;34m[\u001b[0m\u001b[0mDATA_COLUMN\u001b[0m\u001b[0;34m]\u001b[0m\u001b[0;34m,\u001b[0m\u001b[0;34m\u001b[0m\u001b[0;34m\u001b[0m\u001b[0m\n\u001b[1;32m      4\u001b[0m                                                                    \u001b[0mtext_b\u001b[0m \u001b[0;34m=\u001b[0m \u001b[0;32mNone\u001b[0m\u001b[0;34m,\u001b[0m\u001b[0;34m\u001b[0m\u001b[0;34m\u001b[0m\u001b[0m\n\u001b[1;32m      5\u001b[0m                                                                    label = x[LABEL_COLUMN]), axis = 1)\n",
      "\u001b[0;31mAttributeError\u001b[0m: (\"module 'bert' has no attribute 'run_classifier'\", 'occurred at index 0')"
     ]
    }
   ],
   "source": [
    "# Use the InputExample class from BERT's run_classifier code to create examples from the data\n",
    "train_InputExamples = train.apply(lambda x: bert.run_classifier.InputExample(guid=None, # Globally unique ID for bookkeeping, unused in this example\n",
    "                                                                   text_a = x[DATA_COLUMN], \n",
    "                                                                   text_b = None, \n",
    "                                                                   label = x[LABEL_COLUMN]), axis = 1)\n",
    "\n",
    "test_InputExamples = test.apply(lambda x: bert.run_classifier.InputExample(guid=None, \n",
    "                                                                   text_a = x[DATA_COLUMN], \n",
    "                                                                   text_b = None, \n",
    "                                                                   label = x[LABEL_COLUMN]), axis = 1)"
   ]
  },
  {
   "cell_type": "code",
   "execution_count": 311,
   "metadata": {},
   "outputs": [
    {
     "name": "stdout",
     "output_type": "stream",
     "text": [
      "INFO:tensorflow:Saver not created because there are no variables in the graph to restore\n"
     ]
    },
    {
     "name": "stderr",
     "output_type": "stream",
     "text": [
      "INFO:tensorflow:Saver not created because there are no variables in the graph to restore\n"
     ]
    },
    {
     "ename": "AttributeError",
     "evalue": "module 'tensorflow' has no attribute 'Session'",
     "output_type": "error",
     "traceback": [
      "\u001b[0;31m---------------------------------------------------------------------------\u001b[0m",
      "\u001b[0;31mAttributeError\u001b[0m                            Traceback (most recent call last)",
      "\u001b[0;32m<ipython-input-311-41038a386c96>\u001b[0m in \u001b[0;36m<module>\u001b[0;34m\u001b[0m\n\u001b[1;32m     14\u001b[0m         vocab_file=vocab_file, do_lower_case=do_lower_case)\n\u001b[1;32m     15\u001b[0m \u001b[0;34m\u001b[0m\u001b[0m\n\u001b[0;32m---> 16\u001b[0;31m \u001b[0mtokenizer\u001b[0m \u001b[0;34m=\u001b[0m \u001b[0mcreate_tokenizer_from_hub_module\u001b[0m\u001b[0;34m(\u001b[0m\u001b[0;34m)\u001b[0m\u001b[0;34m\u001b[0m\u001b[0;34m\u001b[0m\u001b[0m\n\u001b[0m",
      "\u001b[0;32m<ipython-input-311-41038a386c96>\u001b[0m in \u001b[0;36mcreate_tokenizer_from_hub_module\u001b[0;34m()\u001b[0m\n\u001b[1;32m      7\u001b[0m         \u001b[0mbert_module\u001b[0m \u001b[0;34m=\u001b[0m \u001b[0mhub\u001b[0m\u001b[0;34m.\u001b[0m\u001b[0mModule\u001b[0m\u001b[0;34m(\u001b[0m\u001b[0mBERT_MODEL_HUB\u001b[0m\u001b[0;34m)\u001b[0m\u001b[0;34m\u001b[0m\u001b[0;34m\u001b[0m\u001b[0m\n\u001b[1;32m      8\u001b[0m         \u001b[0mtokenization_info\u001b[0m \u001b[0;34m=\u001b[0m \u001b[0mbert_module\u001b[0m\u001b[0;34m(\u001b[0m\u001b[0msignature\u001b[0m\u001b[0;34m=\u001b[0m\u001b[0;34m\"tokenization_info\"\u001b[0m\u001b[0;34m,\u001b[0m \u001b[0mas_dict\u001b[0m\u001b[0;34m=\u001b[0m\u001b[0;32mTrue\u001b[0m\u001b[0;34m)\u001b[0m\u001b[0;34m\u001b[0m\u001b[0;34m\u001b[0m\u001b[0m\n\u001b[0;32m----> 9\u001b[0;31m         \u001b[0;32mwith\u001b[0m \u001b[0mtf\u001b[0m\u001b[0;34m.\u001b[0m\u001b[0mSession\u001b[0m\u001b[0;34m(\u001b[0m\u001b[0;34m)\u001b[0m \u001b[0;32mas\u001b[0m \u001b[0msess\u001b[0m\u001b[0;34m:\u001b[0m\u001b[0;34m\u001b[0m\u001b[0;34m\u001b[0m\u001b[0m\n\u001b[0m\u001b[1;32m     10\u001b[0m             vocab_file, do_lower_case = sess.run([tokenization_info[\"vocab_file\"],\n\u001b[1;32m     11\u001b[0m                                             tokenization_info[\"do_lower_case\"]])\n",
      "\u001b[0;31mAttributeError\u001b[0m: module 'tensorflow' has no attribute 'Session'"
     ]
    }
   ],
   "source": [
    "# This is a path to an uncased (all lowercase) version of BERT\n",
    "BERT_MODEL_HUB = \"https://tfhub.dev/google/bert_uncased_L-12_H-768_A-12/1\"\n",
    "\n",
    "def create_tokenizer_from_hub_module():\n",
    "    \"\"\"Get the vocab file and casing info from the Hub module.\"\"\"\n",
    "    with tf.Graph().as_default():\n",
    "        bert_module = hub.Module(BERT_MODEL_HUB)\n",
    "        tokenization_info = bert_module(signature=\"tokenization_info\", as_dict=True)\n",
    "        with tf.Session() as sess:\n",
    "            vocab_file, do_lower_case = sess.run([tokenization_info[\"vocab_file\"],\n",
    "                                            tokenization_info[\"do_lower_case\"]])\n",
    "      \n",
    "    return bert.tokenization.FullTokenizer(\n",
    "        vocab_file=vocab_file, do_lower_case=do_lower_case)\n",
    "\n",
    "tokenizer = create_tokenizer_from_hub_module()"
   ]
  },
  {
   "cell_type": "code",
   "execution_count": 312,
   "metadata": {},
   "outputs": [
    {
     "ename": "NameError",
     "evalue": "name 'tokenizer' is not defined",
     "output_type": "error",
     "traceback": [
      "\u001b[0;31m---------------------------------------------------------------------------\u001b[0m",
      "\u001b[0;31mNameError\u001b[0m                                 Traceback (most recent call last)",
      "\u001b[0;32m<ipython-input-312-9d57228bee50>\u001b[0m in \u001b[0;36m<module>\u001b[0;34m\u001b[0m\n\u001b[0;32m----> 1\u001b[0;31m \u001b[0mtokenizer\u001b[0m\u001b[0;34m.\u001b[0m\u001b[0mtokenize\u001b[0m\u001b[0;34m(\u001b[0m\u001b[0mtrain\u001b[0m\u001b[0;34m[\u001b[0m\u001b[0;34m'sentence'\u001b[0m\u001b[0;34m]\u001b[0m\u001b[0;34m[\u001b[0m\u001b[0;36m0\u001b[0m\u001b[0;34m]\u001b[0m\u001b[0;34m)\u001b[0m\u001b[0;34m\u001b[0m\u001b[0;34m\u001b[0m\u001b[0m\n\u001b[0m",
      "\u001b[0;31mNameError\u001b[0m: name 'tokenizer' is not defined"
     ]
    }
   ],
   "source": [
    "tokenizer.tokenize(train['sentence'][0])"
   ]
  },
  {
   "cell_type": "code",
   "execution_count": 313,
   "metadata": {},
   "outputs": [
    {
     "ename": "AttributeError",
     "evalue": "module 'bert' has no attribute 'run_classifier'",
     "output_type": "error",
     "traceback": [
      "\u001b[0;31m---------------------------------------------------------------------------\u001b[0m",
      "\u001b[0;31mAttributeError\u001b[0m                            Traceback (most recent call last)",
      "\u001b[0;32m<ipython-input-313-4a7b57615e4f>\u001b[0m in \u001b[0;36m<module>\u001b[0;34m\u001b[0m\n\u001b[1;32m      2\u001b[0m \u001b[0mMAX_SEQ_LENGTH\u001b[0m \u001b[0;34m=\u001b[0m \u001b[0;36m128\u001b[0m\u001b[0;34m\u001b[0m\u001b[0;34m\u001b[0m\u001b[0m\n\u001b[1;32m      3\u001b[0m \u001b[0;31m# Convert our train and test features to InputFeatures that BERT understands.\u001b[0m\u001b[0;34m\u001b[0m\u001b[0;34m\u001b[0m\u001b[0;34m\u001b[0m\u001b[0m\n\u001b[0;32m----> 4\u001b[0;31m \u001b[0mtrain_features\u001b[0m \u001b[0;34m=\u001b[0m \u001b[0mbert\u001b[0m\u001b[0;34m.\u001b[0m\u001b[0mrun_classifier\u001b[0m\u001b[0;34m.\u001b[0m\u001b[0mconvert_examples_to_features\u001b[0m\u001b[0;34m(\u001b[0m\u001b[0mtrain_InputExamples\u001b[0m\u001b[0;34m,\u001b[0m \u001b[0mlabel_list\u001b[0m\u001b[0;34m,\u001b[0m \u001b[0mMAX_SEQ_LENGTH\u001b[0m\u001b[0;34m,\u001b[0m \u001b[0mtokenizer\u001b[0m\u001b[0;34m)\u001b[0m\u001b[0;34m\u001b[0m\u001b[0;34m\u001b[0m\u001b[0m\n\u001b[0m\u001b[1;32m      5\u001b[0m \u001b[0mtest_features\u001b[0m \u001b[0;34m=\u001b[0m \u001b[0mbert\u001b[0m\u001b[0;34m.\u001b[0m\u001b[0mrun_classifier\u001b[0m\u001b[0;34m.\u001b[0m\u001b[0mconvert_examples_to_features\u001b[0m\u001b[0;34m(\u001b[0m\u001b[0mtest_InputExamples\u001b[0m\u001b[0;34m,\u001b[0m \u001b[0mlabel_list\u001b[0m\u001b[0;34m,\u001b[0m \u001b[0mMAX_SEQ_LENGTH\u001b[0m\u001b[0;34m,\u001b[0m \u001b[0mtokenizer\u001b[0m\u001b[0;34m)\u001b[0m\u001b[0;34m\u001b[0m\u001b[0;34m\u001b[0m\u001b[0m\n",
      "\u001b[0;31mAttributeError\u001b[0m: module 'bert' has no attribute 'run_classifier'"
     ]
    }
   ],
   "source": [
    "# We'll set sequences to be at most 128 tokens long.\n",
    "MAX_SEQ_LENGTH = 128\n",
    "# Convert our train and test features to InputFeatures that BERT understands.\n",
    "train_features = bert.run_classifier.convert_examples_to_features(train_InputExamples, label_list, MAX_SEQ_LENGTH, tokenizer)\n",
    "test_features = bert.run_classifier.convert_examples_to_features(test_InputExamples, label_list, MAX_SEQ_LENGTH, tokenizer)"
   ]
  },
  {
   "cell_type": "code",
   "execution_count": 314,
   "metadata": {},
   "outputs": [],
   "source": [
    "def create_model(is_predicting, input_ids, input_mask, segment_ids, labels,\n",
    "                 num_labels):\n",
    "    \"\"\"Creates a classification model.\"\"\"\n",
    "\n",
    "    bert_module = hub.Module(\n",
    "      BERT_MODEL_HUB,\n",
    "      trainable=True)\n",
    "    bert_inputs = dict(\n",
    "      input_ids=input_ids,\n",
    "      input_mask=input_mask,\n",
    "      segment_ids=segment_ids)\n",
    "    bert_outputs = bert_module(\n",
    "      inputs=bert_inputs,\n",
    "      signature=\"tokens\",\n",
    "      as_dict=True)\n",
    "\n",
    "  # Use \"pooled_output\" for classification tasks on an entire sentence.\n",
    "  # Use \"sequence_outputs\" for token-level output.\n",
    "    output_layer = bert_outputs[\"pooled_output\"]\n",
    "\n",
    "    hidden_size = output_layer.shape[-1].value\n",
    "\n",
    "  # Create our own layer to tune for politeness data.\n",
    "    output_weights = tf.get_variable(\n",
    "      \"output_weights\", [num_labels, hidden_size],\n",
    "      initializer=tf.truncated_normal_initializer(stddev=0.02))\n",
    "\n",
    "    output_bias = tf.get_variable(\n",
    "      \"output_bias\", [num_labels], initializer=tf.zeros_initializer())\n",
    "\n",
    "    with tf.variable_scope(\"loss\"):\n",
    "\n",
    "    # Dropout helps prevent overfitting\n",
    "        output_layer = tf.nn.dropout(output_layer, keep_prob=0.9)\n",
    "\n",
    "        logits = tf.matmul(output_layer, output_weights, transpose_b=True)\n",
    "        logits = tf.nn.bias_add(logits, output_bias)\n",
    "        log_probs = tf.nn.log_softmax(logits, axis=-1)\n",
    "\n",
    "    # Convert labels into one-hot encoding\n",
    "        one_hot_labels = tf.one_hot(labels, depth=num_labels, dtype=tf.float32)\n",
    "\n",
    "        predicted_labels = tf.squeeze(tf.argmax(log_probs, axis=-1, output_type=tf.int32))\n",
    "        # If we're predicting, we want predicted labels and the probabiltiies.\n",
    "        if is_predicting:\n",
    "            return (predicted_labels, log_probs)\n",
    "\n",
    "    # If we're train/eval, compute loss between predicted and actual label\n",
    "        per_example_loss = -tf.reduce_sum(one_hot_labels * log_probs, axis=-1)\n",
    "        loss = tf.reduce_mean(per_example_loss)\n",
    "        return (loss, predicted_labels, log_probs)\n"
   ]
  },
  {
   "cell_type": "code",
   "execution_count": 315,
   "metadata": {},
   "outputs": [],
   "source": [
    "# model_fn_builder actually creates our model function\n",
    "# using the passed parameters for num_labels, learning_rate, etc.\n",
    "def model_fn_builder(num_labels, learning_rate, num_train_steps,\n",
    "                     num_warmup_steps):\n",
    "    \"\"\"Returns `model_fn` closure for TPUEstimator.\"\"\"\n",
    "    def model_fn(features, labels, mode, params):  # pylint: disable=unused-argument\n",
    "        \"\"\"The `model_fn` for TPUEstimator.\"\"\"\n",
    "\n",
    "        input_ids = features[\"input_ids\"]\n",
    "        input_mask = features[\"input_mask\"]\n",
    "        segment_ids = features[\"segment_ids\"]\n",
    "        label_ids = features[\"label_ids\"]\n",
    "\n",
    "        is_predicting = (mode == tf.estimator.ModeKeys.PREDICT)\n",
    "    \n",
    "    # TRAIN and EVAL\n",
    "        if not is_predicting:\n",
    "\n",
    "            (loss, predicted_labels, log_probs) = create_model(\n",
    "                is_predicting, input_ids, input_mask, segment_ids, label_ids, num_labels)\n",
    "\n",
    "            train_op = bert.optimization.create_optimizer(\n",
    "                loss, learning_rate, num_train_steps, num_warmup_steps, use_tpu=False)\n",
    "\n",
    "          # Calculate evaluation metrics. \n",
    "            def metric_fn(label_ids, predicted_labels):\n",
    "                accuracy = tf.metrics.accuracy(label_ids, predicted_labels)\n",
    "                f1_score = tf.contrib.metrics.f1_score(\n",
    "                    label_ids,\n",
    "                    predicted_labels)\n",
    "                auc = tf.metrics.auc(\n",
    "                    label_ids,\n",
    "                    predicted_labels)\n",
    "                recall = tf.metrics.recall(\n",
    "                    label_ids,\n",
    "                    predicted_labels)\n",
    "                precision = tf.metrics.precision(\n",
    "                    label_ids,\n",
    "                    predicted_labels) \n",
    "                true_pos = tf.metrics.true_positives(\n",
    "                    label_ids,\n",
    "                    predicted_labels)\n",
    "                true_neg = tf.metrics.true_negatives(\n",
    "                    label_ids,\n",
    "                    predicted_labels)   \n",
    "                false_pos = tf.metrics.false_positives(\n",
    "                    label_ids,\n",
    "                    predicted_labels)  \n",
    "                false_neg = tf.metrics.false_negatives(\n",
    "                    label_ids,\n",
    "                    predicted_labels)\n",
    "                return {\n",
    "                    \"eval_accuracy\": accuracy,\n",
    "                    \"f1_score\": f1_score,\n",
    "                    \"auc\": auc,\n",
    "                    \"precision\": precision,\n",
    "                    \"recall\": recall,\n",
    "                    \"true_positives\": true_pos,\n",
    "                    \"true_negatives\": true_neg,\n",
    "                    \"false_positives\": false_pos,\n",
    "                    \"false_negatives\": false_neg\n",
    "                }\n",
    "\n",
    "            eval_metrics = metric_fn(label_ids, predicted_labels)\n",
    "\n",
    "            if mode == tf.estimator.ModeKeys.TRAIN:\n",
    "                return tf.estimator.EstimatorSpec(mode=mode,\n",
    "                    loss=loss,\n",
    "                    train_op=train_op)\n",
    "            else:\n",
    "                return tf.estimator.EstimatorSpec(mode=mode,\n",
    "                    loss=loss,\n",
    "                    eval_metric_ops=eval_metrics)\n",
    "        else:\n",
    "            (predicted_labels, log_probs) = create_model(\n",
    "                is_predicting, input_ids, input_mask, segment_ids, label_ids, num_labels)\n",
    "\n",
    "            predictions = {\n",
    "              'probabilities': log_probs,\n",
    "              'labels': predicted_labels\n",
    "              }\n",
    "            return tf.estimator.EstimatorSpec(mode, predictions=predictions)\n",
    "\n",
    "  # Return the actual model function in the closure\n",
    "    return model_fn"
   ]
  },
  {
   "cell_type": "code",
   "execution_count": 316,
   "metadata": {},
   "outputs": [],
   "source": [
    "# Compute train and warmup steps from batch size\n",
    "# These hyperparameters are copied from this colab notebook (https://colab.sandbox.google.com/github/tensorflow/tpu/blob/master/tools/colab/bert_finetuning_with_cloud_tpus.ipynb)\n",
    "BATCH_SIZE = 32\n",
    "LEARNING_RATE = 2e-5\n",
    "NUM_TRAIN_EPOCHS = 3.0\n",
    "# Warmup is a period of time where hte learning rate \n",
    "# is small and gradually increases--usually helps training.\n",
    "WARMUP_PROPORTION = 0.1\n",
    "# Model configs\n",
    "SAVE_CHECKPOINTS_STEPS = 500\n",
    "SAVE_SUMMARY_STEPS = 100"
   ]
  },
  {
   "cell_type": "code",
   "execution_count": 317,
   "metadata": {},
   "outputs": [
    {
     "ename": "NameError",
     "evalue": "name 'train_features' is not defined",
     "output_type": "error",
     "traceback": [
      "\u001b[0;31m---------------------------------------------------------------------------\u001b[0m",
      "\u001b[0;31mNameError\u001b[0m                                 Traceback (most recent call last)",
      "\u001b[0;32m<ipython-input-317-28ee52e7b262>\u001b[0m in \u001b[0;36m<module>\u001b[0;34m\u001b[0m\n\u001b[1;32m      1\u001b[0m \u001b[0;31m# Compute # train and warmup steps from batch size\u001b[0m\u001b[0;34m\u001b[0m\u001b[0;34m\u001b[0m\u001b[0;34m\u001b[0m\u001b[0m\n\u001b[0;32m----> 2\u001b[0;31m \u001b[0mnum_train_steps\u001b[0m \u001b[0;34m=\u001b[0m \u001b[0mint\u001b[0m\u001b[0;34m(\u001b[0m\u001b[0mlen\u001b[0m\u001b[0;34m(\u001b[0m\u001b[0mtrain_features\u001b[0m\u001b[0;34m)\u001b[0m \u001b[0;34m/\u001b[0m \u001b[0mBATCH_SIZE\u001b[0m \u001b[0;34m*\u001b[0m \u001b[0mNUM_TRAIN_EPOCHS\u001b[0m\u001b[0;34m)\u001b[0m\u001b[0;34m\u001b[0m\u001b[0;34m\u001b[0m\u001b[0m\n\u001b[0m\u001b[1;32m      3\u001b[0m \u001b[0mnum_warmup_steps\u001b[0m \u001b[0;34m=\u001b[0m \u001b[0mint\u001b[0m\u001b[0;34m(\u001b[0m\u001b[0mnum_train_steps\u001b[0m \u001b[0;34m*\u001b[0m \u001b[0mWARMUP_PROPORTION\u001b[0m\u001b[0;34m)\u001b[0m\u001b[0;34m\u001b[0m\u001b[0;34m\u001b[0m\u001b[0m\n",
      "\u001b[0;31mNameError\u001b[0m: name 'train_features' is not defined"
     ]
    }
   ],
   "source": [
    "# Compute # train and warmup steps from batch size\n",
    "num_train_steps = int(len(train_features) / BATCH_SIZE * NUM_TRAIN_EPOCHS)\n",
    "num_warmup_steps = int(num_train_steps * WARMUP_PROPORTION)"
   ]
  },
  {
   "cell_type": "code",
   "execution_count": 318,
   "metadata": {},
   "outputs": [],
   "source": [
    "# Specify outpit directory and number of checkpoint steps to save\n",
    "run_config = tf.estimator.RunConfig(\n",
    "    model_dir=OUTPUT_DIR,\n",
    "    save_summary_steps=SAVE_SUMMARY_STEPS,\n",
    "    save_checkpoints_steps=SAVE_CHECKPOINTS_STEPS)"
   ]
  },
  {
   "cell_type": "code",
   "execution_count": 319,
   "metadata": {},
   "outputs": [
    {
     "ename": "NameError",
     "evalue": "name 'num_train_steps' is not defined",
     "output_type": "error",
     "traceback": [
      "\u001b[0;31m---------------------------------------------------------------------------\u001b[0m",
      "\u001b[0;31mNameError\u001b[0m                                 Traceback (most recent call last)",
      "\u001b[0;32m<ipython-input-319-651f10edb60e>\u001b[0m in \u001b[0;36m<module>\u001b[0;34m\u001b[0m\n\u001b[1;32m      2\u001b[0m   \u001b[0mnum_labels\u001b[0m\u001b[0;34m=\u001b[0m\u001b[0mlen\u001b[0m\u001b[0;34m(\u001b[0m\u001b[0mlabel_list\u001b[0m\u001b[0;34m)\u001b[0m\u001b[0;34m,\u001b[0m\u001b[0;34m\u001b[0m\u001b[0;34m\u001b[0m\u001b[0m\n\u001b[1;32m      3\u001b[0m   \u001b[0mlearning_rate\u001b[0m\u001b[0;34m=\u001b[0m\u001b[0mLEARNING_RATE\u001b[0m\u001b[0;34m,\u001b[0m\u001b[0;34m\u001b[0m\u001b[0;34m\u001b[0m\u001b[0m\n\u001b[0;32m----> 4\u001b[0;31m   \u001b[0mnum_train_steps\u001b[0m\u001b[0;34m=\u001b[0m\u001b[0mnum_train_steps\u001b[0m\u001b[0;34m,\u001b[0m\u001b[0;34m\u001b[0m\u001b[0;34m\u001b[0m\u001b[0m\n\u001b[0m\u001b[1;32m      5\u001b[0m   num_warmup_steps=num_warmup_steps)\n\u001b[1;32m      6\u001b[0m \u001b[0;34m\u001b[0m\u001b[0m\n",
      "\u001b[0;31mNameError\u001b[0m: name 'num_train_steps' is not defined"
     ]
    }
   ],
   "source": [
    "model_fn = model_fn_builder(\n",
    "  num_labels=len(label_list),\n",
    "  learning_rate=LEARNING_RATE,\n",
    "  num_train_steps=num_train_steps,\n",
    "  num_warmup_steps=num_warmup_steps)\n",
    "\n",
    "estimator = tf.estimator.Estimator(\n",
    "  model_fn=model_fn,\n",
    "  config=run_config,\n",
    "  params={\"batch_size\": BATCH_SIZE})\n"
   ]
  },
  {
   "cell_type": "code",
   "execution_count": 320,
   "metadata": {},
   "outputs": [
    {
     "ename": "AttributeError",
     "evalue": "module 'bert' has no attribute 'run_classifier'",
     "output_type": "error",
     "traceback": [
      "\u001b[0;31m---------------------------------------------------------------------------\u001b[0m",
      "\u001b[0;31mAttributeError\u001b[0m                            Traceback (most recent call last)",
      "\u001b[0;32m<ipython-input-320-59efd55ea362>\u001b[0m in \u001b[0;36m<module>\u001b[0;34m\u001b[0m\n\u001b[1;32m      1\u001b[0m \u001b[0;31m# Create an input function for training. drop_remainder = True for using TPUs.\u001b[0m\u001b[0;34m\u001b[0m\u001b[0;34m\u001b[0m\u001b[0;34m\u001b[0m\u001b[0m\n\u001b[0;32m----> 2\u001b[0;31m train_input_fn = bert.run_classifier.input_fn_builder(\n\u001b[0m\u001b[1;32m      3\u001b[0m     \u001b[0mfeatures\u001b[0m\u001b[0;34m=\u001b[0m\u001b[0mtrain_features\u001b[0m\u001b[0;34m,\u001b[0m\u001b[0;34m\u001b[0m\u001b[0;34m\u001b[0m\u001b[0m\n\u001b[1;32m      4\u001b[0m     \u001b[0mseq_length\u001b[0m\u001b[0;34m=\u001b[0m\u001b[0mMAX_SEQ_LENGTH\u001b[0m\u001b[0;34m,\u001b[0m\u001b[0;34m\u001b[0m\u001b[0;34m\u001b[0m\u001b[0m\n\u001b[1;32m      5\u001b[0m     \u001b[0mis_training\u001b[0m\u001b[0;34m=\u001b[0m\u001b[0;32mTrue\u001b[0m\u001b[0;34m,\u001b[0m\u001b[0;34m\u001b[0m\u001b[0;34m\u001b[0m\u001b[0m\n",
      "\u001b[0;31mAttributeError\u001b[0m: module 'bert' has no attribute 'run_classifier'"
     ]
    }
   ],
   "source": [
    "# Create an input function for training. drop_remainder = True for using TPUs.\n",
    "train_input_fn = bert.run_classifier.input_fn_builder(\n",
    "    features=train_features,\n",
    "    seq_length=MAX_SEQ_LENGTH,\n",
    "    is_training=True,\n",
    "    drop_remainder=False)"
   ]
  },
  {
   "cell_type": "code",
   "execution_count": 321,
   "metadata": {},
   "outputs": [
    {
     "name": "stdout",
     "output_type": "stream",
     "text": [
      "Beginning Training!\n"
     ]
    },
    {
     "ename": "NameError",
     "evalue": "name 'estimator' is not defined",
     "output_type": "error",
     "traceback": [
      "\u001b[0;31m---------------------------------------------------------------------------\u001b[0m",
      "\u001b[0;31mNameError\u001b[0m                                 Traceback (most recent call last)",
      "\u001b[0;32m<ipython-input-321-6187edf75f66>\u001b[0m in \u001b[0;36m<module>\u001b[0;34m\u001b[0m\n\u001b[1;32m      1\u001b[0m \u001b[0mprint\u001b[0m\u001b[0;34m(\u001b[0m\u001b[0;34mf'Beginning Training!'\u001b[0m\u001b[0;34m)\u001b[0m\u001b[0;34m\u001b[0m\u001b[0;34m\u001b[0m\u001b[0m\n\u001b[1;32m      2\u001b[0m \u001b[0mcurrent_time\u001b[0m \u001b[0;34m=\u001b[0m \u001b[0mdatetime\u001b[0m\u001b[0;34m.\u001b[0m\u001b[0mnow\u001b[0m\u001b[0;34m(\u001b[0m\u001b[0;34m)\u001b[0m\u001b[0;34m\u001b[0m\u001b[0;34m\u001b[0m\u001b[0m\n\u001b[0;32m----> 3\u001b[0;31m \u001b[0mestimator\u001b[0m\u001b[0;34m.\u001b[0m\u001b[0mtrain\u001b[0m\u001b[0;34m(\u001b[0m\u001b[0minput_fn\u001b[0m\u001b[0;34m=\u001b[0m\u001b[0mtrain_input_fn\u001b[0m\u001b[0;34m,\u001b[0m \u001b[0mmax_steps\u001b[0m\u001b[0;34m=\u001b[0m\u001b[0mnum_train_steps\u001b[0m\u001b[0;34m)\u001b[0m\u001b[0;34m\u001b[0m\u001b[0;34m\u001b[0m\u001b[0m\n\u001b[0m\u001b[1;32m      4\u001b[0m \u001b[0mprint\u001b[0m\u001b[0;34m(\u001b[0m\u001b[0;34m\"Training took time \"\u001b[0m\u001b[0;34m,\u001b[0m \u001b[0mdatetime\u001b[0m\u001b[0;34m.\u001b[0m\u001b[0mnow\u001b[0m\u001b[0;34m(\u001b[0m\u001b[0;34m)\u001b[0m \u001b[0;34m-\u001b[0m \u001b[0mcurrent_time\u001b[0m\u001b[0;34m)\u001b[0m\u001b[0;34m\u001b[0m\u001b[0;34m\u001b[0m\u001b[0m\n",
      "\u001b[0;31mNameError\u001b[0m: name 'estimator' is not defined"
     ]
    }
   ],
   "source": [
    "print(f'Beginning Training!')\n",
    "current_time = datetime.now()\n",
    "estimator.train(input_fn=train_input_fn, max_steps=num_train_steps)\n",
    "print(\"Training took time \", datetime.now() - current_time)"
   ]
  },
  {
   "cell_type": "code",
   "execution_count": 322,
   "metadata": {},
   "outputs": [
    {
     "ename": "NameError",
     "evalue": "name 'run_classifier' is not defined",
     "output_type": "error",
     "traceback": [
      "\u001b[0;31m---------------------------------------------------------------------------\u001b[0m",
      "\u001b[0;31mNameError\u001b[0m                                 Traceback (most recent call last)",
      "\u001b[0;32m<ipython-input-322-83c829f62ded>\u001b[0m in \u001b[0;36m<module>\u001b[0;34m\u001b[0m\n\u001b[0;32m----> 1\u001b[0;31m test_input_fn = run_classifier.input_fn_builder(\n\u001b[0m\u001b[1;32m      2\u001b[0m     \u001b[0mfeatures\u001b[0m\u001b[0;34m=\u001b[0m\u001b[0mtest_features\u001b[0m\u001b[0;34m,\u001b[0m\u001b[0;34m\u001b[0m\u001b[0;34m\u001b[0m\u001b[0m\n\u001b[1;32m      3\u001b[0m     \u001b[0mseq_length\u001b[0m\u001b[0;34m=\u001b[0m\u001b[0mMAX_SEQ_LENGTH\u001b[0m\u001b[0;34m,\u001b[0m\u001b[0;34m\u001b[0m\u001b[0;34m\u001b[0m\u001b[0m\n\u001b[1;32m      4\u001b[0m     \u001b[0mis_training\u001b[0m\u001b[0;34m=\u001b[0m\u001b[0;32mFalse\u001b[0m\u001b[0;34m,\u001b[0m\u001b[0;34m\u001b[0m\u001b[0;34m\u001b[0m\u001b[0m\n\u001b[1;32m      5\u001b[0m     drop_remainder=False)\n",
      "\u001b[0;31mNameError\u001b[0m: name 'run_classifier' is not defined"
     ]
    }
   ],
   "source": [
    "test_input_fn = run_classifier.input_fn_builder(\n",
    "    features=test_features,\n",
    "    seq_length=MAX_SEQ_LENGTH,\n",
    "    is_training=False,\n",
    "    drop_remainder=False)"
   ]
  },
  {
   "cell_type": "code",
   "execution_count": 323,
   "metadata": {},
   "outputs": [
    {
     "ename": "NameError",
     "evalue": "name 'estimator' is not defined",
     "output_type": "error",
     "traceback": [
      "\u001b[0;31m---------------------------------------------------------------------------\u001b[0m",
      "\u001b[0;31mNameError\u001b[0m                                 Traceback (most recent call last)",
      "\u001b[0;32m<ipython-input-323-f6cdcd6190a2>\u001b[0m in \u001b[0;36m<module>\u001b[0;34m\u001b[0m\n\u001b[0;32m----> 1\u001b[0;31m \u001b[0mestimator\u001b[0m\u001b[0;34m.\u001b[0m\u001b[0mevaluate\u001b[0m\u001b[0;34m(\u001b[0m\u001b[0minput_fn\u001b[0m\u001b[0;34m=\u001b[0m\u001b[0mtest_input_fn\u001b[0m\u001b[0;34m,\u001b[0m \u001b[0msteps\u001b[0m\u001b[0;34m=\u001b[0m\u001b[0;32mNone\u001b[0m\u001b[0;34m)\u001b[0m\u001b[0;34m\u001b[0m\u001b[0;34m\u001b[0m\u001b[0m\n\u001b[0m",
      "\u001b[0;31mNameError\u001b[0m: name 'estimator' is not defined"
     ]
    }
   ],
   "source": [
    "estimator.evaluate(input_fn=test_input_fn, steps=None)"
   ]
  },
  {
   "cell_type": "code",
   "execution_count": 324,
   "metadata": {},
   "outputs": [],
   "source": [
    "def getPrediction(in_sentences):\n",
    "    labels = [\"Negative\", \"Positive\"]\n",
    "    input_examples = [run_classifier.InputExample(guid=\"\", text_a = x, text_b = None, label = 0) for x in in_sentences] # here, \"\" is just a dummy label\n",
    "    input_features = run_classifier.convert_examples_to_features(input_examples, label_list, MAX_SEQ_LENGTH, tokenizer)\n",
    "    predict_input_fn = run_classifier.input_fn_builder(features=input_features, seq_length=MAX_SEQ_LENGTH, is_training=False, drop_remainder=False)\n",
    "    predictions = estimator.predict(predict_input_fn)\n",
    "    return [(sentence, prediction['probabilities'], labels[prediction['labels']]) for sentence, prediction in zip(in_sentences, predictions)]"
   ]
  },
  {
   "cell_type": "code",
   "execution_count": 325,
   "metadata": {},
   "outputs": [],
   "source": [
    "pred_sentences = [\n",
    "  \"That movie was absolutely awful\",\n",
    "  \"The acting was a bit lacking\",\n",
    "  \"The film was creative and surprising\",\n",
    "  \"Absolutely fantastic!\"\n",
    "]"
   ]
  },
  {
   "cell_type": "code",
   "execution_count": 326,
   "metadata": {},
   "outputs": [
    {
     "ename": "KeyError",
     "evalue": "'sentence'",
     "output_type": "error",
     "traceback": [
      "\u001b[0;31m---------------------------------------------------------------------------\u001b[0m",
      "\u001b[0;31mKeyError\u001b[0m                                  Traceback (most recent call last)",
      "\u001b[0;32m~/miniconda3/lib/python3.7/site-packages/pandas/core/indexes/base.py\u001b[0m in \u001b[0;36mget_loc\u001b[0;34m(self, key, method, tolerance)\u001b[0m\n\u001b[1;32m   2896\u001b[0m             \u001b[0;32mtry\u001b[0m\u001b[0;34m:\u001b[0m\u001b[0;34m\u001b[0m\u001b[0;34m\u001b[0m\u001b[0m\n\u001b[0;32m-> 2897\u001b[0;31m                 \u001b[0;32mreturn\u001b[0m \u001b[0mself\u001b[0m\u001b[0;34m.\u001b[0m\u001b[0m_engine\u001b[0m\u001b[0;34m.\u001b[0m\u001b[0mget_loc\u001b[0m\u001b[0;34m(\u001b[0m\u001b[0mkey\u001b[0m\u001b[0;34m)\u001b[0m\u001b[0;34m\u001b[0m\u001b[0;34m\u001b[0m\u001b[0m\n\u001b[0m\u001b[1;32m   2898\u001b[0m             \u001b[0;32mexcept\u001b[0m \u001b[0mKeyError\u001b[0m\u001b[0;34m:\u001b[0m\u001b[0;34m\u001b[0m\u001b[0;34m\u001b[0m\u001b[0m\n",
      "\u001b[0;32mpandas/_libs/index.pyx\u001b[0m in \u001b[0;36mpandas._libs.index.IndexEngine.get_loc\u001b[0;34m()\u001b[0m\n",
      "\u001b[0;32mpandas/_libs/index.pyx\u001b[0m in \u001b[0;36mpandas._libs.index.IndexEngine.get_loc\u001b[0;34m()\u001b[0m\n",
      "\u001b[0;32mpandas/_libs/hashtable_class_helper.pxi\u001b[0m in \u001b[0;36mpandas._libs.hashtable.PyObjectHashTable.get_item\u001b[0;34m()\u001b[0m\n",
      "\u001b[0;32mpandas/_libs/hashtable_class_helper.pxi\u001b[0m in \u001b[0;36mpandas._libs.hashtable.PyObjectHashTable.get_item\u001b[0;34m()\u001b[0m\n",
      "\u001b[0;31mKeyError\u001b[0m: 'sentence'",
      "\nDuring handling of the above exception, another exception occurred:\n",
      "\u001b[0;31mKeyError\u001b[0m                                  Traceback (most recent call last)",
      "\u001b[0;32m<ipython-input-326-f991d50b24dd>\u001b[0m in \u001b[0;36m<module>\u001b[0;34m\u001b[0m\n\u001b[0;32m----> 1\u001b[0;31m \u001b[0mpredictions\u001b[0m \u001b[0;34m=\u001b[0m \u001b[0mgetPrediction\u001b[0m\u001b[0;34m(\u001b[0m\u001b[0mtest\u001b[0m\u001b[0;34m[\u001b[0m\u001b[0;34m'sentence'\u001b[0m\u001b[0;34m]\u001b[0m\u001b[0;34m)\u001b[0m\u001b[0;34m\u001b[0m\u001b[0;34m\u001b[0m\u001b[0m\n\u001b[0m",
      "\u001b[0;32m~/miniconda3/lib/python3.7/site-packages/pandas/core/frame.py\u001b[0m in \u001b[0;36m__getitem__\u001b[0;34m(self, key)\u001b[0m\n\u001b[1;32m   2978\u001b[0m             \u001b[0;32mif\u001b[0m \u001b[0mself\u001b[0m\u001b[0;34m.\u001b[0m\u001b[0mcolumns\u001b[0m\u001b[0;34m.\u001b[0m\u001b[0mnlevels\u001b[0m \u001b[0;34m>\u001b[0m \u001b[0;36m1\u001b[0m\u001b[0;34m:\u001b[0m\u001b[0;34m\u001b[0m\u001b[0;34m\u001b[0m\u001b[0m\n\u001b[1;32m   2979\u001b[0m                 \u001b[0;32mreturn\u001b[0m \u001b[0mself\u001b[0m\u001b[0;34m.\u001b[0m\u001b[0m_getitem_multilevel\u001b[0m\u001b[0;34m(\u001b[0m\u001b[0mkey\u001b[0m\u001b[0;34m)\u001b[0m\u001b[0;34m\u001b[0m\u001b[0;34m\u001b[0m\u001b[0m\n\u001b[0;32m-> 2980\u001b[0;31m             \u001b[0mindexer\u001b[0m \u001b[0;34m=\u001b[0m \u001b[0mself\u001b[0m\u001b[0;34m.\u001b[0m\u001b[0mcolumns\u001b[0m\u001b[0;34m.\u001b[0m\u001b[0mget_loc\u001b[0m\u001b[0;34m(\u001b[0m\u001b[0mkey\u001b[0m\u001b[0;34m)\u001b[0m\u001b[0;34m\u001b[0m\u001b[0;34m\u001b[0m\u001b[0m\n\u001b[0m\u001b[1;32m   2981\u001b[0m             \u001b[0;32mif\u001b[0m \u001b[0mis_integer\u001b[0m\u001b[0;34m(\u001b[0m\u001b[0mindexer\u001b[0m\u001b[0;34m)\u001b[0m\u001b[0;34m:\u001b[0m\u001b[0;34m\u001b[0m\u001b[0;34m\u001b[0m\u001b[0m\n\u001b[1;32m   2982\u001b[0m                 \u001b[0mindexer\u001b[0m \u001b[0;34m=\u001b[0m \u001b[0;34m[\u001b[0m\u001b[0mindexer\u001b[0m\u001b[0;34m]\u001b[0m\u001b[0;34m\u001b[0m\u001b[0;34m\u001b[0m\u001b[0m\n",
      "\u001b[0;32m~/miniconda3/lib/python3.7/site-packages/pandas/core/indexes/base.py\u001b[0m in \u001b[0;36mget_loc\u001b[0;34m(self, key, method, tolerance)\u001b[0m\n\u001b[1;32m   2897\u001b[0m                 \u001b[0;32mreturn\u001b[0m \u001b[0mself\u001b[0m\u001b[0;34m.\u001b[0m\u001b[0m_engine\u001b[0m\u001b[0;34m.\u001b[0m\u001b[0mget_loc\u001b[0m\u001b[0;34m(\u001b[0m\u001b[0mkey\u001b[0m\u001b[0;34m)\u001b[0m\u001b[0;34m\u001b[0m\u001b[0;34m\u001b[0m\u001b[0m\n\u001b[1;32m   2898\u001b[0m             \u001b[0;32mexcept\u001b[0m \u001b[0mKeyError\u001b[0m\u001b[0;34m:\u001b[0m\u001b[0;34m\u001b[0m\u001b[0;34m\u001b[0m\u001b[0m\n\u001b[0;32m-> 2899\u001b[0;31m                 \u001b[0;32mreturn\u001b[0m \u001b[0mself\u001b[0m\u001b[0;34m.\u001b[0m\u001b[0m_engine\u001b[0m\u001b[0;34m.\u001b[0m\u001b[0mget_loc\u001b[0m\u001b[0;34m(\u001b[0m\u001b[0mself\u001b[0m\u001b[0;34m.\u001b[0m\u001b[0m_maybe_cast_indexer\u001b[0m\u001b[0;34m(\u001b[0m\u001b[0mkey\u001b[0m\u001b[0;34m)\u001b[0m\u001b[0;34m)\u001b[0m\u001b[0;34m\u001b[0m\u001b[0;34m\u001b[0m\u001b[0m\n\u001b[0m\u001b[1;32m   2900\u001b[0m         \u001b[0mindexer\u001b[0m \u001b[0;34m=\u001b[0m \u001b[0mself\u001b[0m\u001b[0;34m.\u001b[0m\u001b[0mget_indexer\u001b[0m\u001b[0;34m(\u001b[0m\u001b[0;34m[\u001b[0m\u001b[0mkey\u001b[0m\u001b[0;34m]\u001b[0m\u001b[0;34m,\u001b[0m \u001b[0mmethod\u001b[0m\u001b[0;34m=\u001b[0m\u001b[0mmethod\u001b[0m\u001b[0;34m,\u001b[0m \u001b[0mtolerance\u001b[0m\u001b[0;34m=\u001b[0m\u001b[0mtolerance\u001b[0m\u001b[0;34m)\u001b[0m\u001b[0;34m\u001b[0m\u001b[0;34m\u001b[0m\u001b[0m\n\u001b[1;32m   2901\u001b[0m         \u001b[0;32mif\u001b[0m \u001b[0mindexer\u001b[0m\u001b[0;34m.\u001b[0m\u001b[0mndim\u001b[0m \u001b[0;34m>\u001b[0m \u001b[0;36m1\u001b[0m \u001b[0;32mor\u001b[0m \u001b[0mindexer\u001b[0m\u001b[0;34m.\u001b[0m\u001b[0msize\u001b[0m \u001b[0;34m>\u001b[0m \u001b[0;36m1\u001b[0m\u001b[0;34m:\u001b[0m\u001b[0;34m\u001b[0m\u001b[0;34m\u001b[0m\u001b[0m\n",
      "\u001b[0;32mpandas/_libs/index.pyx\u001b[0m in \u001b[0;36mpandas._libs.index.IndexEngine.get_loc\u001b[0;34m()\u001b[0m\n",
      "\u001b[0;32mpandas/_libs/index.pyx\u001b[0m in \u001b[0;36mpandas._libs.index.IndexEngine.get_loc\u001b[0;34m()\u001b[0m\n",
      "\u001b[0;32mpandas/_libs/hashtable_class_helper.pxi\u001b[0m in \u001b[0;36mpandas._libs.hashtable.PyObjectHashTable.get_item\u001b[0;34m()\u001b[0m\n",
      "\u001b[0;32mpandas/_libs/hashtable_class_helper.pxi\u001b[0m in \u001b[0;36mpandas._libs.hashtable.PyObjectHashTable.get_item\u001b[0;34m()\u001b[0m\n",
      "\u001b[0;31mKeyError\u001b[0m: 'sentence'"
     ]
    }
   ],
   "source": [
    "predictions = getPrediction(test['sentence'])"
   ]
  },
  {
   "cell_type": "code",
   "execution_count": 327,
   "metadata": {},
   "outputs": [
    {
     "ename": "KeyError",
     "evalue": "'polarity'",
     "output_type": "error",
     "traceback": [
      "\u001b[0;31m---------------------------------------------------------------------------\u001b[0m",
      "\u001b[0;31mKeyError\u001b[0m                                  Traceback (most recent call last)",
      "\u001b[0;32m~/miniconda3/lib/python3.7/site-packages/pandas/core/indexes/base.py\u001b[0m in \u001b[0;36mget_loc\u001b[0;34m(self, key, method, tolerance)\u001b[0m\n\u001b[1;32m   2896\u001b[0m             \u001b[0;32mtry\u001b[0m\u001b[0;34m:\u001b[0m\u001b[0;34m\u001b[0m\u001b[0;34m\u001b[0m\u001b[0m\n\u001b[0;32m-> 2897\u001b[0;31m                 \u001b[0;32mreturn\u001b[0m \u001b[0mself\u001b[0m\u001b[0;34m.\u001b[0m\u001b[0m_engine\u001b[0m\u001b[0;34m.\u001b[0m\u001b[0mget_loc\u001b[0m\u001b[0;34m(\u001b[0m\u001b[0mkey\u001b[0m\u001b[0;34m)\u001b[0m\u001b[0;34m\u001b[0m\u001b[0;34m\u001b[0m\u001b[0m\n\u001b[0m\u001b[1;32m   2898\u001b[0m             \u001b[0;32mexcept\u001b[0m \u001b[0mKeyError\u001b[0m\u001b[0;34m:\u001b[0m\u001b[0;34m\u001b[0m\u001b[0;34m\u001b[0m\u001b[0m\n",
      "\u001b[0;32mpandas/_libs/index.pyx\u001b[0m in \u001b[0;36mpandas._libs.index.IndexEngine.get_loc\u001b[0;34m()\u001b[0m\n",
      "\u001b[0;32mpandas/_libs/index.pyx\u001b[0m in \u001b[0;36mpandas._libs.index.IndexEngine.get_loc\u001b[0;34m()\u001b[0m\n",
      "\u001b[0;32mpandas/_libs/hashtable_class_helper.pxi\u001b[0m in \u001b[0;36mpandas._libs.hashtable.PyObjectHashTable.get_item\u001b[0;34m()\u001b[0m\n",
      "\u001b[0;32mpandas/_libs/hashtable_class_helper.pxi\u001b[0m in \u001b[0;36mpandas._libs.hashtable.PyObjectHashTable.get_item\u001b[0;34m()\u001b[0m\n",
      "\u001b[0;31mKeyError\u001b[0m: 'polarity'",
      "\nDuring handling of the above exception, another exception occurred:\n",
      "\u001b[0;31mKeyError\u001b[0m                                  Traceback (most recent call last)",
      "\u001b[0;32m<ipython-input-327-9aa07e87a1e7>\u001b[0m in \u001b[0;36m<module>\u001b[0;34m\u001b[0m\n\u001b[0;32m----> 1\u001b[0;31m \u001b[0mpol\u001b[0m \u001b[0;34m=\u001b[0m \u001b[0mnp\u001b[0m\u001b[0;34m.\u001b[0m\u001b[0marray\u001b[0m\u001b[0;34m(\u001b[0m\u001b[0mtest\u001b[0m\u001b[0;34m[\u001b[0m\u001b[0;34m'polarity'\u001b[0m\u001b[0;34m]\u001b[0m\u001b[0;34m)\u001b[0m\u001b[0;34m\u001b[0m\u001b[0;34m\u001b[0m\u001b[0m\n\u001b[0m",
      "\u001b[0;32m~/miniconda3/lib/python3.7/site-packages/pandas/core/frame.py\u001b[0m in \u001b[0;36m__getitem__\u001b[0;34m(self, key)\u001b[0m\n\u001b[1;32m   2978\u001b[0m             \u001b[0;32mif\u001b[0m \u001b[0mself\u001b[0m\u001b[0;34m.\u001b[0m\u001b[0mcolumns\u001b[0m\u001b[0;34m.\u001b[0m\u001b[0mnlevels\u001b[0m \u001b[0;34m>\u001b[0m \u001b[0;36m1\u001b[0m\u001b[0;34m:\u001b[0m\u001b[0;34m\u001b[0m\u001b[0;34m\u001b[0m\u001b[0m\n\u001b[1;32m   2979\u001b[0m                 \u001b[0;32mreturn\u001b[0m \u001b[0mself\u001b[0m\u001b[0;34m.\u001b[0m\u001b[0m_getitem_multilevel\u001b[0m\u001b[0;34m(\u001b[0m\u001b[0mkey\u001b[0m\u001b[0;34m)\u001b[0m\u001b[0;34m\u001b[0m\u001b[0;34m\u001b[0m\u001b[0m\n\u001b[0;32m-> 2980\u001b[0;31m             \u001b[0mindexer\u001b[0m \u001b[0;34m=\u001b[0m \u001b[0mself\u001b[0m\u001b[0;34m.\u001b[0m\u001b[0mcolumns\u001b[0m\u001b[0;34m.\u001b[0m\u001b[0mget_loc\u001b[0m\u001b[0;34m(\u001b[0m\u001b[0mkey\u001b[0m\u001b[0;34m)\u001b[0m\u001b[0;34m\u001b[0m\u001b[0;34m\u001b[0m\u001b[0m\n\u001b[0m\u001b[1;32m   2981\u001b[0m             \u001b[0;32mif\u001b[0m \u001b[0mis_integer\u001b[0m\u001b[0;34m(\u001b[0m\u001b[0mindexer\u001b[0m\u001b[0;34m)\u001b[0m\u001b[0;34m:\u001b[0m\u001b[0;34m\u001b[0m\u001b[0;34m\u001b[0m\u001b[0m\n\u001b[1;32m   2982\u001b[0m                 \u001b[0mindexer\u001b[0m \u001b[0;34m=\u001b[0m \u001b[0;34m[\u001b[0m\u001b[0mindexer\u001b[0m\u001b[0;34m]\u001b[0m\u001b[0;34m\u001b[0m\u001b[0;34m\u001b[0m\u001b[0m\n",
      "\u001b[0;32m~/miniconda3/lib/python3.7/site-packages/pandas/core/indexes/base.py\u001b[0m in \u001b[0;36mget_loc\u001b[0;34m(self, key, method, tolerance)\u001b[0m\n\u001b[1;32m   2897\u001b[0m                 \u001b[0;32mreturn\u001b[0m \u001b[0mself\u001b[0m\u001b[0;34m.\u001b[0m\u001b[0m_engine\u001b[0m\u001b[0;34m.\u001b[0m\u001b[0mget_loc\u001b[0m\u001b[0;34m(\u001b[0m\u001b[0mkey\u001b[0m\u001b[0;34m)\u001b[0m\u001b[0;34m\u001b[0m\u001b[0;34m\u001b[0m\u001b[0m\n\u001b[1;32m   2898\u001b[0m             \u001b[0;32mexcept\u001b[0m \u001b[0mKeyError\u001b[0m\u001b[0;34m:\u001b[0m\u001b[0;34m\u001b[0m\u001b[0;34m\u001b[0m\u001b[0m\n\u001b[0;32m-> 2899\u001b[0;31m                 \u001b[0;32mreturn\u001b[0m \u001b[0mself\u001b[0m\u001b[0;34m.\u001b[0m\u001b[0m_engine\u001b[0m\u001b[0;34m.\u001b[0m\u001b[0mget_loc\u001b[0m\u001b[0;34m(\u001b[0m\u001b[0mself\u001b[0m\u001b[0;34m.\u001b[0m\u001b[0m_maybe_cast_indexer\u001b[0m\u001b[0;34m(\u001b[0m\u001b[0mkey\u001b[0m\u001b[0;34m)\u001b[0m\u001b[0;34m)\u001b[0m\u001b[0;34m\u001b[0m\u001b[0;34m\u001b[0m\u001b[0m\n\u001b[0m\u001b[1;32m   2900\u001b[0m         \u001b[0mindexer\u001b[0m \u001b[0;34m=\u001b[0m \u001b[0mself\u001b[0m\u001b[0;34m.\u001b[0m\u001b[0mget_indexer\u001b[0m\u001b[0;34m(\u001b[0m\u001b[0;34m[\u001b[0m\u001b[0mkey\u001b[0m\u001b[0;34m]\u001b[0m\u001b[0;34m,\u001b[0m \u001b[0mmethod\u001b[0m\u001b[0;34m=\u001b[0m\u001b[0mmethod\u001b[0m\u001b[0;34m,\u001b[0m \u001b[0mtolerance\u001b[0m\u001b[0;34m=\u001b[0m\u001b[0mtolerance\u001b[0m\u001b[0;34m)\u001b[0m\u001b[0;34m\u001b[0m\u001b[0;34m\u001b[0m\u001b[0m\n\u001b[1;32m   2901\u001b[0m         \u001b[0;32mif\u001b[0m \u001b[0mindexer\u001b[0m\u001b[0;34m.\u001b[0m\u001b[0mndim\u001b[0m \u001b[0;34m>\u001b[0m \u001b[0;36m1\u001b[0m \u001b[0;32mor\u001b[0m \u001b[0mindexer\u001b[0m\u001b[0;34m.\u001b[0m\u001b[0msize\u001b[0m \u001b[0;34m>\u001b[0m \u001b[0;36m1\u001b[0m\u001b[0;34m:\u001b[0m\u001b[0;34m\u001b[0m\u001b[0;34m\u001b[0m\u001b[0m\n",
      "\u001b[0;32mpandas/_libs/index.pyx\u001b[0m in \u001b[0;36mpandas._libs.index.IndexEngine.get_loc\u001b[0;34m()\u001b[0m\n",
      "\u001b[0;32mpandas/_libs/index.pyx\u001b[0m in \u001b[0;36mpandas._libs.index.IndexEngine.get_loc\u001b[0;34m()\u001b[0m\n",
      "\u001b[0;32mpandas/_libs/hashtable_class_helper.pxi\u001b[0m in \u001b[0;36mpandas._libs.hashtable.PyObjectHashTable.get_item\u001b[0;34m()\u001b[0m\n",
      "\u001b[0;32mpandas/_libs/hashtable_class_helper.pxi\u001b[0m in \u001b[0;36mpandas._libs.hashtable.PyObjectHashTable.get_item\u001b[0;34m()\u001b[0m\n",
      "\u001b[0;31mKeyError\u001b[0m: 'polarity'"
     ]
    }
   ],
   "source": [
    "pol = np.array(test['polarity'])"
   ]
  },
  {
   "cell_type": "code",
   "execution_count": 328,
   "metadata": {},
   "outputs": [
    {
     "ename": "NameError",
     "evalue": "name 'predictions' is not defined",
     "output_type": "error",
     "traceback": [
      "\u001b[0;31m---------------------------------------------------------------------------\u001b[0m",
      "\u001b[0;31mNameError\u001b[0m                                 Traceback (most recent call last)",
      "\u001b[0;32m<ipython-input-328-b749446fff32>\u001b[0m in \u001b[0;36m<module>\u001b[0;34m\u001b[0m\n\u001b[1;32m      1\u001b[0m \u001b[0mt\u001b[0m \u001b[0;34m=\u001b[0m \u001b[0;36m0\u001b[0m\u001b[0;34m\u001b[0m\u001b[0;34m\u001b[0m\u001b[0m\n\u001b[0;32m----> 2\u001b[0;31m \u001b[0;32mfor\u001b[0m \u001b[0mp\u001b[0m\u001b[0;34m,\u001b[0m \u001b[0mi\u001b[0m \u001b[0;32min\u001b[0m \u001b[0mzip\u001b[0m\u001b[0;34m(\u001b[0m\u001b[0mpredictions\u001b[0m\u001b[0;34m,\u001b[0m \u001b[0mpol\u001b[0m\u001b[0;34m)\u001b[0m\u001b[0;34m:\u001b[0m\u001b[0;34m\u001b[0m\u001b[0;34m\u001b[0m\u001b[0m\n\u001b[0m\u001b[1;32m      3\u001b[0m   \u001b[0;32mif\u001b[0m \u001b[0;34m(\u001b[0m\u001b[0mp\u001b[0m\u001b[0;34m[\u001b[0m\u001b[0;36m2\u001b[0m\u001b[0;34m]\u001b[0m \u001b[0;34m==\u001b[0m \u001b[0;34m'Positive'\u001b[0m \u001b[0;32mand\u001b[0m \u001b[0mi\u001b[0m \u001b[0;34m==\u001b[0m \u001b[0;36m1\u001b[0m\u001b[0;34m)\u001b[0m \u001b[0;32mor\u001b[0m \u001b[0;34m(\u001b[0m\u001b[0mp\u001b[0m\u001b[0;34m[\u001b[0m\u001b[0;36m2\u001b[0m\u001b[0;34m]\u001b[0m \u001b[0;34m==\u001b[0m \u001b[0;34m'Negative'\u001b[0m \u001b[0;32mand\u001b[0m \u001b[0mi\u001b[0m \u001b[0;34m==\u001b[0m \u001b[0;36m0\u001b[0m\u001b[0;34m)\u001b[0m\u001b[0;34m:\u001b[0m\u001b[0;34m\u001b[0m\u001b[0;34m\u001b[0m\u001b[0m\n\u001b[1;32m      4\u001b[0m     \u001b[0mt\u001b[0m \u001b[0;34m+=\u001b[0m \u001b[0;36m1\u001b[0m\u001b[0;34m\u001b[0m\u001b[0;34m\u001b[0m\u001b[0m\n\u001b[1;32m      5\u001b[0m \u001b[0;34m\u001b[0m\u001b[0m\n",
      "\u001b[0;31mNameError\u001b[0m: name 'predictions' is not defined"
     ]
    }
   ],
   "source": [
    "t = 0\n",
    "for p, i in zip(predictions, pol):\n",
    "  if (p[2] == 'Positive' and i == 1) or (p[2] == 'Negative' and i == 0):\n",
    "    t += 1\n",
    "\n",
    "1 - (t / len(pol))"
   ]
  },
  {
   "cell_type": "code",
   "execution_count": null,
   "metadata": {},
   "outputs": [],
   "source": []
  }
 ],
 "metadata": {
  "kernelspec": {
   "display_name": "Python 3",
   "language": "python",
   "name": "python3"
  },
  "language_info": {
   "codemirror_mode": {
    "name": "ipython",
    "version": 3
   },
   "file_extension": ".py",
   "mimetype": "text/x-python",
   "name": "python",
   "nbconvert_exporter": "python",
   "pygments_lexer": "ipython3",
   "version": "3.7.3"
  }
 },
 "nbformat": 4,
 "nbformat_minor": 2
}
