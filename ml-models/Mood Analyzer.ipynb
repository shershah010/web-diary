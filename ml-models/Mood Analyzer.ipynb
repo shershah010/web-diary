{
 "cells": [
  {
   "cell_type": "code",
   "execution_count": 2,
   "metadata": {},
   "outputs": [],
   "source": [
    "import pymongo\n",
    "import urllib\n",
    "import pandas as pd\n",
    "import numpy as np\n",
    "import matplotlib.pyplot as plt"
   ]
  },
  {
   "cell_type": "code",
   "execution_count": 2,
   "metadata": {},
   "outputs": [],
   "source": [
    "uri = \"mongodb+srv://\" + urllib.parse.quote(\"user\") + \":\" + urllib.parse.quote(\"Pizza.network1\") + \"@dentries-nsb6p.mongodb.net/test?retryWrites=true&w=majority\"\n",
    "client = pymongo.MongoClient(uri)\n",
    "db = client.diary_entries_db"
   ]
  },
  {
   "cell_type": "code",
   "execution_count": 3,
   "metadata": {},
   "outputs": [
    {
     "data": {
      "text/plain": [
       "['diary_entries']"
      ]
     },
     "execution_count": 3,
     "metadata": {},
     "output_type": "execute_result"
    }
   ],
   "source": [
    "db.list_collection_names()"
   ]
  },
  {
   "cell_type": "code",
   "execution_count": 4,
   "metadata": {},
   "outputs": [],
   "source": [
    "collection = db['diary_entries']"
   ]
  },
  {
   "cell_type": "code",
   "execution_count": 5,
   "metadata": {},
   "outputs": [],
   "source": [
    "df = pd.DataFrame(list(collection.find()))"
   ]
  },
  {
   "cell_type": "code",
   "execution_count": 36,
   "metadata": {},
   "outputs": [],
   "source": [
    "df.to_csv('entries.csv')"
   ]
  },
  {
   "cell_type": "code",
   "execution_count": 6,
   "metadata": {},
   "outputs": [
    {
     "data": {
      "text/html": [
       "<div>\n",
       "<style scoped>\n",
       "    .dataframe tbody tr th:only-of-type {\n",
       "        vertical-align: middle;\n",
       "    }\n",
       "\n",
       "    .dataframe tbody tr th {\n",
       "        vertical-align: top;\n",
       "    }\n",
       "\n",
       "    .dataframe thead th {\n",
       "        text-align: right;\n",
       "    }\n",
       "</style>\n",
       "<table border=\"1\" class=\"dataframe\">\n",
       "  <thead>\n",
       "    <tr style=\"text-align: right;\">\n",
       "      <th></th>\n",
       "      <th>_id</th>\n",
       "      <th>title</th>\n",
       "      <th>date</th>\n",
       "      <th>startTime</th>\n",
       "      <th>endTime</th>\n",
       "      <th>content</th>\n",
       "    </tr>\n",
       "  </thead>\n",
       "  <tbody>\n",
       "    <tr>\n",
       "      <td>0</td>\n",
       "      <td>5d2eb7761c9d440000d5bbfe</td>\n",
       "      <td>11-9-2017</td>\n",
       "      <td>11/9/2017</td>\n",
       "      <td>1:56 AM</td>\n",
       "      <td>2:10 AM</td>\n",
       "      <td>Hello. How should I start? Umm..., well I am m...</td>\n",
       "    </tr>\n",
       "    <tr>\n",
       "      <td>1</td>\n",
       "      <td>5d2eba9f1c9d440000d5bc01</td>\n",
       "      <td>11-11-2017</td>\n",
       "      <td>11/11/2017</td>\n",
       "      <td>1:20 AM</td>\n",
       "      <td>1:43 AM</td>\n",
       "      <td>Ok, so new plan. I just sleep after I take my ...</td>\n",
       "    </tr>\n",
       "    <tr>\n",
       "      <td>2</td>\n",
       "      <td>5d2ebbe91c9d440000d5bc02</td>\n",
       "      <td>11-13-2017</td>\n",
       "      <td>11/13/2017</td>\n",
       "      <td>9:01 AM</td>\n",
       "      <td>9:30 AM</td>\n",
       "      <td>Well, a lot has happened. Okay, sorry for not ...</td>\n",
       "    </tr>\n",
       "    <tr>\n",
       "      <td>3</td>\n",
       "      <td>5d2ebd3b1c9d440000d5bc03</td>\n",
       "      <td>11-14-2017</td>\n",
       "      <td>11/14/2017</td>\n",
       "      <td>8:44 AM</td>\n",
       "      <td>8:51 AM</td>\n",
       "      <td>Damn it! I overslept again. I hate myself righ...</td>\n",
       "    </tr>\n",
       "    <tr>\n",
       "      <td>4</td>\n",
       "      <td>5d2ebd911c9d440000d5bc04</td>\n",
       "      <td>11-15-2017</td>\n",
       "      <td>11/15/2017</td>\n",
       "      <td>2:05 AM</td>\n",
       "      <td>2:11 AM</td>\n",
       "      <td>So I went on a run today. Yodai was there too....</td>\n",
       "    </tr>\n",
       "  </tbody>\n",
       "</table>\n",
       "</div>"
      ],
      "text/plain": [
       "                        _id       title        date startTime  endTime  \\\n",
       "0  5d2eb7761c9d440000d5bbfe   11-9-2017   11/9/2017   1:56 AM  2:10 AM   \n",
       "1  5d2eba9f1c9d440000d5bc01  11-11-2017  11/11/2017   1:20 AM  1:43 AM   \n",
       "2  5d2ebbe91c9d440000d5bc02  11-13-2017  11/13/2017   9:01 AM  9:30 AM   \n",
       "3  5d2ebd3b1c9d440000d5bc03  11-14-2017  11/14/2017   8:44 AM  8:51 AM   \n",
       "4  5d2ebd911c9d440000d5bc04  11-15-2017  11/15/2017   2:05 AM  2:11 AM   \n",
       "\n",
       "                                             content  \n",
       "0  Hello. How should I start? Umm..., well I am m...  \n",
       "1  Ok, so new plan. I just sleep after I take my ...  \n",
       "2  Well, a lot has happened. Okay, sorry for not ...  \n",
       "3  Damn it! I overslept again. I hate myself righ...  \n",
       "4  So I went on a run today. Yodai was there too....  "
      ]
     },
     "execution_count": 6,
     "metadata": {},
     "output_type": "execute_result"
    }
   ],
   "source": [
    "df.head()"
   ]
  },
  {
   "cell_type": "code",
   "execution_count": 7,
   "metadata": {},
   "outputs": [
    {
     "data": {
      "text/plain": [
       "(174, 6)"
      ]
     },
     "execution_count": 7,
     "metadata": {},
     "output_type": "execute_result"
    }
   ],
   "source": [
    "df.shape"
   ]
  },
  {
   "cell_type": "code",
   "execution_count": 8,
   "metadata": {},
   "outputs": [
    {
     "data": {
      "text/html": [
       "<div>\n",
       "<style scoped>\n",
       "    .dataframe tbody tr th:only-of-type {\n",
       "        vertical-align: middle;\n",
       "    }\n",
       "\n",
       "    .dataframe tbody tr th {\n",
       "        vertical-align: top;\n",
       "    }\n",
       "\n",
       "    .dataframe thead th {\n",
       "        text-align: right;\n",
       "    }\n",
       "</style>\n",
       "<table border=\"1\" class=\"dataframe\">\n",
       "  <thead>\n",
       "    <tr style=\"text-align: right;\">\n",
       "      <th></th>\n",
       "      <th>_id</th>\n",
       "      <th>title</th>\n",
       "      <th>date</th>\n",
       "      <th>startTime</th>\n",
       "      <th>endTime</th>\n",
       "      <th>content</th>\n",
       "    </tr>\n",
       "  </thead>\n",
       "  <tbody>\n",
       "    <tr>\n",
       "      <td>count</td>\n",
       "      <td>174</td>\n",
       "      <td>174</td>\n",
       "      <td>174</td>\n",
       "      <td>174</td>\n",
       "      <td>174</td>\n",
       "      <td>174</td>\n",
       "    </tr>\n",
       "    <tr>\n",
       "      <td>unique</td>\n",
       "      <td>174</td>\n",
       "      <td>174</td>\n",
       "      <td>171</td>\n",
       "      <td>149</td>\n",
       "      <td>161</td>\n",
       "      <td>174</td>\n",
       "    </tr>\n",
       "    <tr>\n",
       "      <td>top</td>\n",
       "      <td>5d2f5b1c1c9d440000d5bc37</td>\n",
       "      <td>11-13-2017</td>\n",
       "      <td>12/14/2017</td>\n",
       "      <td>11:39 PM</td>\n",
       "      <td>11:18 PM</td>\n",
       "      <td>So, today was Sarah's birthday. She got a cake...</td>\n",
       "    </tr>\n",
       "    <tr>\n",
       "      <td>freq</td>\n",
       "      <td>1</td>\n",
       "      <td>1</td>\n",
       "      <td>2</td>\n",
       "      <td>3</td>\n",
       "      <td>2</td>\n",
       "      <td>1</td>\n",
       "    </tr>\n",
       "  </tbody>\n",
       "</table>\n",
       "</div>"
      ],
      "text/plain": [
       "                             _id       title        date startTime   endTime  \\\n",
       "count                        174         174         174       174       174   \n",
       "unique                       174         174         171       149       161   \n",
       "top     5d2f5b1c1c9d440000d5bc37  11-13-2017  12/14/2017  11:39 PM  11:18 PM   \n",
       "freq                           1           1           2         3         2   \n",
       "\n",
       "                                                  content  \n",
       "count                                                 174  \n",
       "unique                                                174  \n",
       "top     So, today was Sarah's birthday. She got a cake...  \n",
       "freq                                                    1  "
      ]
     },
     "execution_count": 8,
     "metadata": {},
     "output_type": "execute_result"
    }
   ],
   "source": [
    "df.describe()"
   ]
  },
  {
   "cell_type": "code",
   "execution_count": 9,
   "metadata": {},
   "outputs": [
    {
     "data": {
      "text/html": [
       "<div>\n",
       "<style scoped>\n",
       "    .dataframe tbody tr th:only-of-type {\n",
       "        vertical-align: middle;\n",
       "    }\n",
       "\n",
       "    .dataframe tbody tr th {\n",
       "        vertical-align: top;\n",
       "    }\n",
       "\n",
       "    .dataframe thead th {\n",
       "        text-align: right;\n",
       "    }\n",
       "</style>\n",
       "<table border=\"1\" class=\"dataframe\">\n",
       "  <thead>\n",
       "    <tr style=\"text-align: right;\">\n",
       "      <th></th>\n",
       "      <th>_id</th>\n",
       "      <th>title</th>\n",
       "      <th>date</th>\n",
       "      <th>startTime</th>\n",
       "      <th>endTime</th>\n",
       "      <th>content</th>\n",
       "    </tr>\n",
       "  </thead>\n",
       "  <tbody>\n",
       "    <tr>\n",
       "      <td>169</td>\n",
       "      <td>5da3575a18349012867cc03b</td>\n",
       "      <td>Party!</td>\n",
       "      <td>10/13/2019</td>\n",
       "      <td>9:44 AM</td>\n",
       "      <td>9:56 AM</td>\n",
       "      <td>On Friday I went to the Board Game Club party ...</td>\n",
       "    </tr>\n",
       "    <tr>\n",
       "      <td>170</td>\n",
       "      <td>5daeaa413a314878ccb3da70</td>\n",
       "      <td>Mandel Music</td>\n",
       "      <td>10/21/2019</td>\n",
       "      <td>11:57 PM</td>\n",
       "      <td>12:05 AM</td>\n",
       "      <td>So, there is an extra credit assignment for CS...</td>\n",
       "    </tr>\n",
       "    <tr>\n",
       "      <td>171</td>\n",
       "      <td>5db7d3f980bd9e1b722400c0</td>\n",
       "      <td>Another Power Outage</td>\n",
       "      <td>10/28/2019</td>\n",
       "      <td>10:42 PM</td>\n",
       "      <td>10:54 PM</td>\n",
       "      <td>There was another power outage in Berkeley. I ...</td>\n",
       "    </tr>\n",
       "    <tr>\n",
       "      <td>172</td>\n",
       "      <td>5dc5055f5954723896b24370</td>\n",
       "      <td>I should be working</td>\n",
       "      <td>11/7/2019</td>\n",
       "      <td>9:46 PM</td>\n",
       "      <td>10:04 PM</td>\n",
       "      <td>As the title says, I should be working right n...</td>\n",
       "    </tr>\n",
       "    <tr>\n",
       "      <td>173</td>\n",
       "      <td>5dcc305ee51c170cacd4056a</td>\n",
       "      <td>I Got Paid Atleast</td>\n",
       "      <td>11/13/2019</td>\n",
       "      <td>8:26 AM</td>\n",
       "      <td>8:33 AM</td>\n",
       "      <td>I got paid finally! Sure, it is only a fractio...</td>\n",
       "    </tr>\n",
       "  </tbody>\n",
       "</table>\n",
       "</div>"
      ],
      "text/plain": [
       "                          _id                 title        date startTime  \\\n",
       "169  5da3575a18349012867cc03b                Party!  10/13/2019   9:44 AM   \n",
       "170  5daeaa413a314878ccb3da70          Mandel Music  10/21/2019  11:57 PM   \n",
       "171  5db7d3f980bd9e1b722400c0  Another Power Outage  10/28/2019  10:42 PM   \n",
       "172  5dc5055f5954723896b24370   I should be working   11/7/2019   9:46 PM   \n",
       "173  5dcc305ee51c170cacd4056a    I Got Paid Atleast  11/13/2019   8:26 AM   \n",
       "\n",
       "      endTime                                            content  \n",
       "169   9:56 AM  On Friday I went to the Board Game Club party ...  \n",
       "170  12:05 AM  So, there is an extra credit assignment for CS...  \n",
       "171  10:54 PM  There was another power outage in Berkeley. I ...  \n",
       "172  10:04 PM  As the title says, I should be working right n...  \n",
       "173   8:33 AM  I got paid finally! Sure, it is only a fractio...  "
      ]
     },
     "execution_count": 9,
     "metadata": {},
     "output_type": "execute_result"
    }
   ],
   "source": [
    "df.tail()"
   ]
  },
  {
   "cell_type": "code",
   "execution_count": 10,
   "metadata": {},
   "outputs": [],
   "source": [
    "from vaderSentiment.vaderSentiment import SentimentIntensityAnalyzer "
   ]
  },
  {
   "cell_type": "code",
   "execution_count": 11,
   "metadata": {},
   "outputs": [],
   "source": [
    "sid_obj = SentimentIntensityAnalyzer() "
   ]
  },
  {
   "cell_type": "code",
   "execution_count": 12,
   "metadata": {},
   "outputs": [],
   "source": [
    "neg = [] \n",
    "neu = []\n",
    "pos = []\n",
    "for sentance in df['content'].str.lower():\n",
    "    sentiment_dict = sid_obj.polarity_scores(sentance)\n",
    "    neg.append(sentiment_dict['neg'])\n",
    "    neu.append(sentiment_dict['neu'])\n",
    "    pos.append(sentiment_dict['pos'])"
   ]
  },
  {
   "cell_type": "code",
   "execution_count": 13,
   "metadata": {},
   "outputs": [],
   "source": [
    "df['neg'] = neg\n",
    "df['neu'] = neu\n",
    "df['pos'] = pos"
   ]
  },
  {
   "cell_type": "code",
   "execution_count": 14,
   "metadata": {},
   "outputs": [
    {
     "data": {
      "text/html": [
       "<div>\n",
       "<style scoped>\n",
       "    .dataframe tbody tr th:only-of-type {\n",
       "        vertical-align: middle;\n",
       "    }\n",
       "\n",
       "    .dataframe tbody tr th {\n",
       "        vertical-align: top;\n",
       "    }\n",
       "\n",
       "    .dataframe thead th {\n",
       "        text-align: right;\n",
       "    }\n",
       "</style>\n",
       "<table border=\"1\" class=\"dataframe\">\n",
       "  <thead>\n",
       "    <tr style=\"text-align: right;\">\n",
       "      <th></th>\n",
       "      <th>_id</th>\n",
       "      <th>title</th>\n",
       "      <th>date</th>\n",
       "      <th>startTime</th>\n",
       "      <th>endTime</th>\n",
       "      <th>content</th>\n",
       "      <th>neg</th>\n",
       "      <th>neu</th>\n",
       "      <th>pos</th>\n",
       "    </tr>\n",
       "  </thead>\n",
       "  <tbody>\n",
       "    <tr>\n",
       "      <td>0</td>\n",
       "      <td>5d2eb7761c9d440000d5bbfe</td>\n",
       "      <td>11-9-2017</td>\n",
       "      <td>11/9/2017</td>\n",
       "      <td>1:56 AM</td>\n",
       "      <td>2:10 AM</td>\n",
       "      <td>Hello. How should I start? Umm..., well I am m...</td>\n",
       "      <td>0.050</td>\n",
       "      <td>0.871</td>\n",
       "      <td>0.079</td>\n",
       "    </tr>\n",
       "    <tr>\n",
       "      <td>1</td>\n",
       "      <td>5d2eba9f1c9d440000d5bc01</td>\n",
       "      <td>11-11-2017</td>\n",
       "      <td>11/11/2017</td>\n",
       "      <td>1:20 AM</td>\n",
       "      <td>1:43 AM</td>\n",
       "      <td>Ok, so new plan. I just sleep after I take my ...</td>\n",
       "      <td>0.069</td>\n",
       "      <td>0.787</td>\n",
       "      <td>0.144</td>\n",
       "    </tr>\n",
       "    <tr>\n",
       "      <td>2</td>\n",
       "      <td>5d2ebbe91c9d440000d5bc02</td>\n",
       "      <td>11-13-2017</td>\n",
       "      <td>11/13/2017</td>\n",
       "      <td>9:01 AM</td>\n",
       "      <td>9:30 AM</td>\n",
       "      <td>Well, a lot has happened. Okay, sorry for not ...</td>\n",
       "      <td>0.141</td>\n",
       "      <td>0.757</td>\n",
       "      <td>0.102</td>\n",
       "    </tr>\n",
       "    <tr>\n",
       "      <td>3</td>\n",
       "      <td>5d2ebd3b1c9d440000d5bc03</td>\n",
       "      <td>11-14-2017</td>\n",
       "      <td>11/14/2017</td>\n",
       "      <td>8:44 AM</td>\n",
       "      <td>8:51 AM</td>\n",
       "      <td>Damn it! I overslept again. I hate myself righ...</td>\n",
       "      <td>0.095</td>\n",
       "      <td>0.805</td>\n",
       "      <td>0.100</td>\n",
       "    </tr>\n",
       "    <tr>\n",
       "      <td>4</td>\n",
       "      <td>5d2ebd911c9d440000d5bc04</td>\n",
       "      <td>11-15-2017</td>\n",
       "      <td>11/15/2017</td>\n",
       "      <td>2:05 AM</td>\n",
       "      <td>2:11 AM</td>\n",
       "      <td>So I went on a run today. Yodai was there too....</td>\n",
       "      <td>0.107</td>\n",
       "      <td>0.835</td>\n",
       "      <td>0.058</td>\n",
       "    </tr>\n",
       "    <tr>\n",
       "      <td>...</td>\n",
       "      <td>...</td>\n",
       "      <td>...</td>\n",
       "      <td>...</td>\n",
       "      <td>...</td>\n",
       "      <td>...</td>\n",
       "      <td>...</td>\n",
       "      <td>...</td>\n",
       "      <td>...</td>\n",
       "      <td>...</td>\n",
       "    </tr>\n",
       "    <tr>\n",
       "      <td>169</td>\n",
       "      <td>5da3575a18349012867cc03b</td>\n",
       "      <td>Party!</td>\n",
       "      <td>10/13/2019</td>\n",
       "      <td>9:44 AM</td>\n",
       "      <td>9:56 AM</td>\n",
       "      <td>On Friday I went to the Board Game Club party ...</td>\n",
       "      <td>0.044</td>\n",
       "      <td>0.785</td>\n",
       "      <td>0.170</td>\n",
       "    </tr>\n",
       "    <tr>\n",
       "      <td>170</td>\n",
       "      <td>5daeaa413a314878ccb3da70</td>\n",
       "      <td>Mandel Music</td>\n",
       "      <td>10/21/2019</td>\n",
       "      <td>11:57 PM</td>\n",
       "      <td>12:05 AM</td>\n",
       "      <td>So, there is an extra credit assignment for CS...</td>\n",
       "      <td>0.041</td>\n",
       "      <td>0.778</td>\n",
       "      <td>0.182</td>\n",
       "    </tr>\n",
       "    <tr>\n",
       "      <td>171</td>\n",
       "      <td>5db7d3f980bd9e1b722400c0</td>\n",
       "      <td>Another Power Outage</td>\n",
       "      <td>10/28/2019</td>\n",
       "      <td>10:42 PM</td>\n",
       "      <td>10:54 PM</td>\n",
       "      <td>There was another power outage in Berkeley. I ...</td>\n",
       "      <td>0.077</td>\n",
       "      <td>0.863</td>\n",
       "      <td>0.060</td>\n",
       "    </tr>\n",
       "    <tr>\n",
       "      <td>172</td>\n",
       "      <td>5dc5055f5954723896b24370</td>\n",
       "      <td>I should be working</td>\n",
       "      <td>11/7/2019</td>\n",
       "      <td>9:46 PM</td>\n",
       "      <td>10:04 PM</td>\n",
       "      <td>As the title says, I should be working right n...</td>\n",
       "      <td>0.080</td>\n",
       "      <td>0.780</td>\n",
       "      <td>0.141</td>\n",
       "    </tr>\n",
       "    <tr>\n",
       "      <td>173</td>\n",
       "      <td>5dcc305ee51c170cacd4056a</td>\n",
       "      <td>I Got Paid Atleast</td>\n",
       "      <td>11/13/2019</td>\n",
       "      <td>8:26 AM</td>\n",
       "      <td>8:33 AM</td>\n",
       "      <td>I got paid finally! Sure, it is only a fractio...</td>\n",
       "      <td>0.024</td>\n",
       "      <td>0.912</td>\n",
       "      <td>0.063</td>\n",
       "    </tr>\n",
       "  </tbody>\n",
       "</table>\n",
       "<p>174 rows × 9 columns</p>\n",
       "</div>"
      ],
      "text/plain": [
       "                          _id                 title        date startTime  \\\n",
       "0    5d2eb7761c9d440000d5bbfe             11-9-2017   11/9/2017   1:56 AM   \n",
       "1    5d2eba9f1c9d440000d5bc01            11-11-2017  11/11/2017   1:20 AM   \n",
       "2    5d2ebbe91c9d440000d5bc02            11-13-2017  11/13/2017   9:01 AM   \n",
       "3    5d2ebd3b1c9d440000d5bc03            11-14-2017  11/14/2017   8:44 AM   \n",
       "4    5d2ebd911c9d440000d5bc04            11-15-2017  11/15/2017   2:05 AM   \n",
       "..                        ...                   ...         ...       ...   \n",
       "169  5da3575a18349012867cc03b                Party!  10/13/2019   9:44 AM   \n",
       "170  5daeaa413a314878ccb3da70          Mandel Music  10/21/2019  11:57 PM   \n",
       "171  5db7d3f980bd9e1b722400c0  Another Power Outage  10/28/2019  10:42 PM   \n",
       "172  5dc5055f5954723896b24370   I should be working   11/7/2019   9:46 PM   \n",
       "173  5dcc305ee51c170cacd4056a    I Got Paid Atleast  11/13/2019   8:26 AM   \n",
       "\n",
       "      endTime                                            content    neg  \\\n",
       "0     2:10 AM  Hello. How should I start? Umm..., well I am m...  0.050   \n",
       "1     1:43 AM  Ok, so new plan. I just sleep after I take my ...  0.069   \n",
       "2     9:30 AM  Well, a lot has happened. Okay, sorry for not ...  0.141   \n",
       "3     8:51 AM  Damn it! I overslept again. I hate myself righ...  0.095   \n",
       "4     2:11 AM  So I went on a run today. Yodai was there too....  0.107   \n",
       "..        ...                                                ...    ...   \n",
       "169   9:56 AM  On Friday I went to the Board Game Club party ...  0.044   \n",
       "170  12:05 AM  So, there is an extra credit assignment for CS...  0.041   \n",
       "171  10:54 PM  There was another power outage in Berkeley. I ...  0.077   \n",
       "172  10:04 PM  As the title says, I should be working right n...  0.080   \n",
       "173   8:33 AM  I got paid finally! Sure, it is only a fractio...  0.024   \n",
       "\n",
       "       neu    pos  \n",
       "0    0.871  0.079  \n",
       "1    0.787  0.144  \n",
       "2    0.757  0.102  \n",
       "3    0.805  0.100  \n",
       "4    0.835  0.058  \n",
       "..     ...    ...  \n",
       "169  0.785  0.170  \n",
       "170  0.778  0.182  \n",
       "171  0.863  0.060  \n",
       "172  0.780  0.141  \n",
       "173  0.912  0.063  \n",
       "\n",
       "[174 rows x 9 columns]"
      ]
     },
     "execution_count": 14,
     "metadata": {},
     "output_type": "execute_result"
    }
   ],
   "source": [
    "df"
   ]
  },
  {
   "cell_type": "code",
   "execution_count": 15,
   "metadata": {},
   "outputs": [
    {
     "name": "stdout",
     "output_type": "stream",
     "text": [
      "I am back home! I have lot to do. Finals were brutal. I completely failed those. Anyways, I have too a lot. I got a hair cut, but my barber was terrible. So I need to get a new hair cut later. Guest came over yesterday. That was nice. Nader was there and we had a lot of fun. We worked on creating a new Roleplay game. I fasted today.  It was a bit had, but I got through it. Soha also fasted. I went with Sama to the library. It was a bit annoying. I have jury duty on Thurday. That will be annoying. I got to use my new SSD. It is pretty cool. It is super light weight. I also got my ethernet cable, so I am fine with internet speed. I also got my computer a dual boot with ubuntu. I like everything so far, but it needs a bit more setup. I also have a bunch of anime that I need to watch. I also meet Bilal, who was really cool, but also really smart. He has got a lot of good advice. He is also a bit like dad.\n",
      "\n",
      "Hey. I am super lazy right now. Then again, I did do a lot today. I did laundry, went to Oakland Airport, learned how to use BART, bought Oreos, found great places to avoid people, and went to the Doe library. I talked to Noah in the libray. We chatted a bit; it was nice. So, I was out the entire day. I also want to go out all day tommorow, but I should probably take my computer and other items to get some work done. I have been listening to The Hobbit. It is really interesting. I think Gandolf is a bit of a prick though. I did some UCBUGG work. On Monday, I plan on checking my scenes in to do some rendering. I have a bit less than a week to finish everything. Man it is all coming over so soon. I talked to Mom today. That was nice. I ate at subway. I tried the siracha sauce. It was pretty good. I should do some physics or computer science studies but I am too lazy too. The trip to the airport was interesting. It felt like the DMV on rails. However, the tram from the station to the airport was new and all machine operated. That was nice. The airport was very small. Like a tenth of the size of LAX. I like it, although there was not a lot to explore. I saw some intersting people on the BART today. Very loud people; also nice people that wanted to help me out. I managed everything on my own, however. I am pretty happy about that.\n",
      "\n",
      "So I basically failed all of my midterms, but its okay, I hope. PG&E, the electrical company, said that power would be shut off for most of the Bay Area. So, two days ago, my roommates and I prepared by freezing a bunch of stuff. That turned out to be unnecessary. We had power all of yesterday and today as well. However, classes are cancelled today and they we yesterday. My roommates are happy because their EE16B midterm got cancelled. This is also great for me, because I can get more studying in, although I probably will get distracted. I meet with my robotics team yesterday and we got the proposal done. Then we went to get pizza at Silvers. It was really good. I have the board game party tomorrow. That is going to be fun. I am looking forward to it. Anyways, I should get to work soon. Bye.\n",
      "\n",
      "I need to stop listening to rap music. It is good but I think it is too much for right now. I have been working on the askoski stuff. It is going okay. I want to create my own libary to use. Tommy created a library for text transformations. It was really cool. I went running at the RSF. It was fine but really tiring because the RSF is so far away. I need to start drawing to. I have not in a while. I also have been putting off homework. It is not urgent or due soon but it is okay. That is pretty much it. THe international house coffee machine is broken. They also have not pizza which sucks. I have a busy day tommorow. I took showers today and yesterday. It was good. That is about it.\n",
      "\n",
      "So it has been a while which is good because now I have quite a bit to talk about. I have been lazy yesterday so not much happened, but today I had a lot of fun with my friends. First, I started running, only three miles through because it is really hilly here in Palos Verdes. My legs hurt at night though. Then, today I played Dnd with my friends and we played jackbox games. I met Hunter, who I never seen before but apparently we have met atleast three times according to him. Oh, well. He shares the same humor I do so he is cool. We played, made jokes, and had a lot of fun for about seven hours. Then we went home. Artin drove and he is a pretty decent driver. Tomorrow I am going to hang out with Tommy at mod pizza and then we may go somewhere else together. Speaking of which, I have been practice my drawing, a bit too much since I need to put more effort into studying computer science and R. I know what to study, I will probably have to do most midterm questions using paper now instead of notepad. That kinda suck now. Learning R is a bit difficult since the language is, so far, pretty command-line kinda like python. I just need to get over that initial learning curve. I wonder if I should go to sleep right now because I have to wake up at 8:00 tomorrow or if I would be okay just setting up an alarm. Then again my alarm almost always fails. After New Years, when high school starts, I am going to visit my old teachers to say hello. I think that is going to be fun. Ethan has a google home and we messed with it today. That was also fun.\n",
      "\n"
     ]
    }
   ],
   "source": [
    "for i in df.sort_values(by='pos', ascending=False).head()['content']:\n",
    "    print(i + '\\n')"
   ]
  },
  {
   "cell_type": "code",
   "execution_count": 16,
   "metadata": {},
   "outputs": [
    {
     "data": {
      "text/plain": [
       "<matplotlib.collections.PathCollection at 0x7f6c4ccdac18>"
      ]
     },
     "execution_count": 16,
     "metadata": {},
     "output_type": "execute_result"
    },
    {
     "data": {
      "image/png": "[encoded data removed]",
      "text/plain": [
       "<Figure size 432x288 with 1 Axes>"
      ]
     },
     "metadata": {
      "needs_background": "light"
     },
     "output_type": "display_data"
    }
   ],
   "source": [
    "plt.scatter(df['neg'], df['pos'])"
   ]
  },
  {
   "cell_type": "code",
   "execution_count": 17,
   "metadata": {},
   "outputs": [],
   "source": [
    "arr = df['content'].str.lower().str.replace(r'[.?!]', '').str.split().to_numpy()"
   ]
  },
  {
   "cell_type": "code",
   "execution_count": 18,
   "metadata": {},
   "outputs": [],
   "source": [
    "word = np.array([i for sub in arr for i in sub])"
   ]
  },
  {
   "cell_type": "code",
   "execution_count": 19,
   "metadata": {},
   "outputs": [
    {
     "data": {
      "text/plain": [
       "3806"
      ]
     },
     "execution_count": 19,
     "metadata": {},
     "output_type": "execute_result"
    }
   ],
   "source": [
    "len(set(word))"
   ]
  },
  {
   "cell_type": "code",
   "execution_count": 20,
   "metadata": {},
   "outputs": [
    {
     "data": {
      "text/plain": [
       "39655"
      ]
     },
     "execution_count": 20,
     "metadata": {},
     "output_type": "execute_result"
    }
   ],
   "source": [
    "len(word)"
   ]
  },
  {
   "cell_type": "code",
   "execution_count": 21,
   "metadata": {},
   "outputs": [
    {
     "data": {
      "text/plain": [
       "{'am', 'hello', 'how', 'i', 'making', 'should', 'start', 'umm,', 'well'}"
      ]
     },
     "execution_count": 21,
     "metadata": {},
     "output_type": "execute_result"
    }
   ],
   "source": [
    "set(word[:10])"
   ]
  },
  {
   "cell_type": "code",
   "execution_count": 22,
   "metadata": {},
   "outputs": [],
   "source": [
    "df['clean_content'] = df['content'].str.lower().str.replace(r'[.?!]', '')"
   ]
  },
  {
   "cell_type": "code",
   "execution_count": 23,
   "metadata": {},
   "outputs": [
    {
     "data": {
      "text/html": [
       "<div>\n",
       "<style scoped>\n",
       "    .dataframe tbody tr th:only-of-type {\n",
       "        vertical-align: middle;\n",
       "    }\n",
       "\n",
       "    .dataframe tbody tr th {\n",
       "        vertical-align: top;\n",
       "    }\n",
       "\n",
       "    .dataframe thead th {\n",
       "        text-align: right;\n",
       "    }\n",
       "</style>\n",
       "<table border=\"1\" class=\"dataframe\">\n",
       "  <thead>\n",
       "    <tr style=\"text-align: right;\">\n",
       "      <th></th>\n",
       "      <th>neg</th>\n",
       "      <th>neu</th>\n",
       "      <th>pos</th>\n",
       "    </tr>\n",
       "  </thead>\n",
       "  <tbody>\n",
       "    <tr>\n",
       "      <td>0</td>\n",
       "      <td>0.050</td>\n",
       "      <td>0.871</td>\n",
       "      <td>0.079</td>\n",
       "    </tr>\n",
       "    <tr>\n",
       "      <td>1</td>\n",
       "      <td>0.069</td>\n",
       "      <td>0.787</td>\n",
       "      <td>0.144</td>\n",
       "    </tr>\n",
       "    <tr>\n",
       "      <td>2</td>\n",
       "      <td>0.141</td>\n",
       "      <td>0.757</td>\n",
       "      <td>0.102</td>\n",
       "    </tr>\n",
       "    <tr>\n",
       "      <td>3</td>\n",
       "      <td>0.095</td>\n",
       "      <td>0.805</td>\n",
       "      <td>0.100</td>\n",
       "    </tr>\n",
       "    <tr>\n",
       "      <td>4</td>\n",
       "      <td>0.107</td>\n",
       "      <td>0.835</td>\n",
       "      <td>0.058</td>\n",
       "    </tr>\n",
       "    <tr>\n",
       "      <td>...</td>\n",
       "      <td>...</td>\n",
       "      <td>...</td>\n",
       "      <td>...</td>\n",
       "    </tr>\n",
       "    <tr>\n",
       "      <td>169</td>\n",
       "      <td>0.044</td>\n",
       "      <td>0.785</td>\n",
       "      <td>0.170</td>\n",
       "    </tr>\n",
       "    <tr>\n",
       "      <td>170</td>\n",
       "      <td>0.041</td>\n",
       "      <td>0.778</td>\n",
       "      <td>0.182</td>\n",
       "    </tr>\n",
       "    <tr>\n",
       "      <td>171</td>\n",
       "      <td>0.077</td>\n",
       "      <td>0.863</td>\n",
       "      <td>0.060</td>\n",
       "    </tr>\n",
       "    <tr>\n",
       "      <td>172</td>\n",
       "      <td>0.080</td>\n",
       "      <td>0.780</td>\n",
       "      <td>0.141</td>\n",
       "    </tr>\n",
       "    <tr>\n",
       "      <td>173</td>\n",
       "      <td>0.024</td>\n",
       "      <td>0.912</td>\n",
       "      <td>0.063</td>\n",
       "    </tr>\n",
       "  </tbody>\n",
       "</table>\n",
       "<p>174 rows × 3 columns</p>\n",
       "</div>"
      ],
      "text/plain": [
       "       neg    neu    pos\n",
       "0    0.050  0.871  0.079\n",
       "1    0.069  0.787  0.144\n",
       "2    0.141  0.757  0.102\n",
       "3    0.095  0.805  0.100\n",
       "4    0.107  0.835  0.058\n",
       "..     ...    ...    ...\n",
       "169  0.044  0.785  0.170\n",
       "170  0.041  0.778  0.182\n",
       "171  0.077  0.863  0.060\n",
       "172  0.080  0.780  0.141\n",
       "173  0.024  0.912  0.063\n",
       "\n",
       "[174 rows x 3 columns]"
      ]
     },
     "execution_count": 23,
     "metadata": {},
     "output_type": "execute_result"
    }
   ],
   "source": [
    "df.loc[:, 'neg':'pos']"
   ]
  },
  {
   "cell_type": "code",
   "execution_count": 24,
   "metadata": {},
   "outputs": [],
   "source": [
    "df['isNeg'] = df['neg'] > df['pos']\n",
    "df['isNeg'] = df['isNeg'].astype(int)"
   ]
  },
  {
   "cell_type": "code",
   "execution_count": 25,
   "metadata": {},
   "outputs": [],
   "source": [
    "neg_messages = df[df['isNeg'] == 1]"
   ]
  },
  {
   "cell_type": "code",
   "execution_count": 26,
   "metadata": {},
   "outputs": [
    {
     "name": "stderr",
     "output_type": "stream",
     "text": [
      "/home/shershah/miniconda3/lib/python3.7/site-packages/numpy/core/fromnumeric.py:56: FutureWarning: \n",
      "The current behaviour of 'Series.argmax' is deprecated, use 'idxmax'\n",
      "instead.\n",
      "The behavior of 'argmax' will be corrected to return the positional\n",
      "maximum in the future. For now, use 'series.values.argmax' or\n",
      "'np.argmax(np.array(values))' to get the position of the maximum\n",
      "row.\n",
      "  return getattr(obj, method)(*args, **kwds)\n"
     ]
    },
    {
     "data": {
      "text/plain": [
       "_id                                       5d2f75471c9d4400005b2a90\n",
       "title                                                     Fighting\n",
       "date                                                     6/12/2019\n",
       "startTime                                                  4:27 PM\n",
       "endTime                                                    4:28 PM\n",
       "content          It has been a hard few days. Dad has been acti...\n",
       "neg                                                          0.401\n",
       "neu                                                          0.445\n",
       "pos                                                          0.154\n",
       "clean_content    it has been a hard few days dad has been actin...\n",
       "isNeg                                                            1\n",
       "Name: 143, dtype: object"
      ]
     },
     "execution_count": 26,
     "metadata": {},
     "output_type": "execute_result"
    }
   ],
   "source": [
    "df.iloc[np.argmax(neg_messages['neg'])]"
   ]
  },
  {
   "cell_type": "code",
   "execution_count": 27,
   "metadata": {},
   "outputs": [
    {
     "name": "stderr",
     "output_type": "stream",
     "text": [
      "/home/shershah/miniconda3/lib/python3.7/site-packages/numpy/core/fromnumeric.py:56: FutureWarning: \n",
      "The current behaviour of 'Series.argmin' is deprecated, use 'idxmin'\n",
      "instead.\n",
      "The behavior of 'argmin' will be corrected to return the positional\n",
      "minimum in the future. For now, use 'series.values.argmin' or\n",
      "'np.argmin(np.array(values))' to get the position of the minimum\n",
      "row.\n",
      "  return getattr(obj, method)(*args, **kwds)\n"
     ]
    },
    {
     "data": {
      "text/plain": [
       "_id                                       5d2f600a1c9d4400005b2a44\n",
       "title                                                  I am sleepy\n",
       "date                                                      12/28/18\n",
       "startTime                                                 11:27 PM\n",
       "endTime                                                   11:31 PM\n",
       "content          I am realy sleepy right now. I don't know why....\n",
       "neg                                                           0.03\n",
       "neu                                                          0.943\n",
       "pos                                                          0.027\n",
       "clean_content    i am realy sleepy right now i don't know why i...\n",
       "isNeg                                                            1\n",
       "Name: 67, dtype: object"
      ]
     },
     "execution_count": 27,
     "metadata": {},
     "output_type": "execute_result"
    }
   ],
   "source": [
    "df.iloc[np.argmin(neg_messages['neg'])]"
   ]
  },
  {
   "cell_type": "code",
   "execution_count": 28,
   "metadata": {},
   "outputs": [],
   "source": [
    "pos_messages = df[df['isNeg'] == 0]"
   ]
  },
  {
   "cell_type": "code",
   "execution_count": 29,
   "metadata": {},
   "outputs": [
    {
     "data": {
      "text/plain": [
       "(51, 123)"
      ]
     },
     "execution_count": 29,
     "metadata": {},
     "output_type": "execute_result"
    }
   ],
   "source": [
    "len(neg_messages), len(pos_messages)"
   ]
  },
  {
   "cell_type": "code",
   "execution_count": 30,
   "metadata": {},
   "outputs": [
    {
     "data": {
      "text/plain": [
       "227.9022988505747"
      ]
     },
     "execution_count": 30,
     "metadata": {},
     "output_type": "execute_result"
    }
   ],
   "source": [
    "np.mean([len(x) for x in df['content'].str.split()])"
   ]
  },
  {
   "cell_type": "code",
   "execution_count": 3,
   "metadata": {},
   "outputs": [],
   "source": [
    "dum = pd.DataFrame([[4, 9]] * 3, columns=['A', 'B'])"
   ]
  },
  {
   "cell_type": "code",
   "execution_count": 4,
   "metadata": {},
   "outputs": [
    {
     "data": {
      "text/html": [
       "<div>\n",
       "<style scoped>\n",
       "    .dataframe tbody tr th:only-of-type {\n",
       "        vertical-align: middle;\n",
       "    }\n",
       "\n",
       "    .dataframe tbody tr th {\n",
       "        vertical-align: top;\n",
       "    }\n",
       "\n",
       "    .dataframe thead th {\n",
       "        text-align: right;\n",
       "    }\n",
       "</style>\n",
       "<table border=\"1\" class=\"dataframe\">\n",
       "  <thead>\n",
       "    <tr style=\"text-align: right;\">\n",
       "      <th></th>\n",
       "      <th>A</th>\n",
       "      <th>B</th>\n",
       "    </tr>\n",
       "  </thead>\n",
       "  <tbody>\n",
       "    <tr>\n",
       "      <td>0</td>\n",
       "      <td>4</td>\n",
       "      <td>9</td>\n",
       "    </tr>\n",
       "    <tr>\n",
       "      <td>1</td>\n",
       "      <td>4</td>\n",
       "      <td>9</td>\n",
       "    </tr>\n",
       "    <tr>\n",
       "      <td>2</td>\n",
       "      <td>4</td>\n",
       "      <td>9</td>\n",
       "    </tr>\n",
       "  </tbody>\n",
       "</table>\n",
       "</div>"
      ],
      "text/plain": [
       "   A  B\n",
       "0  4  9\n",
       "1  4  9\n",
       "2  4  9"
      ]
     },
     "execution_count": 4,
     "metadata": {},
     "output_type": "execute_result"
    }
   ],
   "source": [
    "dum"
   ]
  },
  {
   "cell_type": "code",
   "execution_count": 7,
   "metadata": {},
   "outputs": [
    {
     "data": {
      "text/plain": [
       "0    4\n",
       "1    4\n",
       "2    4\n",
       "dtype: int64"
      ]
     },
     "execution_count": 7,
     "metadata": {},
     "output_type": "execute_result"
    }
   ],
   "source": [
    "dum.apply(lambda x: x['A'], axis=1)"
   ]
  },
  {
   "cell_type": "markdown",
   "metadata": {},
   "source": [
    "# VADER"
   ]
  },
  {
   "cell_type": "markdown",
   "metadata": {},
   "source": [
    "# Bag of Words"
   ]
  },
  {
   "cell_type": "markdown",
   "metadata": {},
   "source": [
    "# N-Gram"
   ]
  },
  {
   "cell_type": "markdown",
   "metadata": {},
   "source": [
    "# Word2Vec"
   ]
  },
  {
   "cell_type": "markdown",
   "metadata": {},
   "source": [
    "# Transformer Models"
   ]
  },
  {
   "cell_type": "code",
   "execution_count": null,
   "metadata": {},
   "outputs": [],
   "source": []
  }
 ],
 "metadata": {
  "kernelspec": {
   "display_name": "Python 3",
   "language": "python",
   "name": "python3"
  },
  "language_info": {
   "codemirror_mode": {
    "name": "ipython",
    "version": 3
   },
   "file_extension": ".py",
   "mimetype": "text/x-python",
   "name": "python",
   "nbconvert_exporter": "python",
   "pygments_lexer": "ipython3",
   "version": "3.7.3"
  }
 },
 "nbformat": 4,
 "nbformat_minor": 2
}
